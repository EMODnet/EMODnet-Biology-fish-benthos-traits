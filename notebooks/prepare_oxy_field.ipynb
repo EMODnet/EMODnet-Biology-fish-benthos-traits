{
 "cells": [
  {
   "cell_type": "code",
   "execution_count": 1,
   "metadata": {},
   "outputs": [
    {
     "ename": "LoadError",
     "evalue": "NCDatasets.NetCDFError(-49, \"NetCDF: Variable not found\")",
     "output_type": "error",
     "traceback": [
      "NCDatasets.NetCDFError(-49, \"NetCDF: Variable not found\")",
      "",
      "Stacktrace:",
      " [1] check at /home/ctroupin/.julia/packages/NCDatasets/jb0hO/src/NCDatasets.jl:43 [inlined]",
      " [2] nc_inq_varid(::Int32, ::String) at /home/ctroupin/.julia/packages/NCDatasets/jb0hO/src/netcdf_c.jl:1155",
      " [3] variable(::Dataset, ::String) at /home/ctroupin/.julia/packages/NCDatasets/jb0hO/src/NCDatasets.jl:530",
      " [4] getindex(::Dataset, ::String) at /home/ctroupin/.julia/packages/NCDatasets/jb0hO/src/NCDatasets.jl:615",
      " [5] (::getfield(Main, Symbol(\"##3#4\")){String,Int64,Int64,Float64})(::Dataset) at /home/ctroupin/ULg/Tools/DIVAndNN/src/emodnet_bio_prep_oxy.jl:16",
      " [6] #Dataset#15(::Base.Iterators.Pairs{Union{},Union{},Tuple{},NamedTuple{(),Tuple{}}}, ::Type, ::getfield(Main, Symbol(\"##3#4\")){String,Int64,Int64,Float64}, ::String) at /home/ctroupin/.julia/packages/NCDatasets/jb0hO/src/NCDatasets.jl:376",
      " [7] Type at /home/ctroupin/.julia/packages/NCDatasets/jb0hO/src/NCDatasets.jl:374 [inlined]",
      " [8] read_emodnet_chem at /home/ctroupin/ULg/Tools/DIVAndNN/src/emodnet_bio_prep_oxy.jl:13 [inlined] (repeats 2 times)",
      " [9] get_mean_field(::Array{Any,1}, ::UnitRange{Int64}) at /home/ctroupin/ULg/Tools/DIVAndNN/src/emodnet_bio_prep_oxy.jl:67",
      " [10] top-level scope at none:0",
      " [11] include at ./boot.jl:317 [inlined]",
      " [12] include_relative(::Module, ::String) at ./loading.jl:1038",
      " [13] include(::Module, ::String) at ./sysimg.jl:29",
      " [14] include(::String) at ./client.jl:388",
      " [15] top-level scope at In[1]:19"
     ]
    }
   ],
   "source": [
    "using DIVAnd\n",
    "using PyPlot\n",
    "using NCDatasets\n",
    "using Missings\n",
    "using Interpolations\n",
    "using Plots\n",
    "\n",
    "if VERSION >= v\"0.7\"\n",
    "    using Random\n",
    "    using DelimitedFiles\n",
    "    using Statistics\n",
    "    using Printf\n",
    "    using FileIO\n",
    "else\n",
    "    using Compat: @info, @warn, range, cat\n",
    "end\n",
    "\n",
    "include(\"../src/emodnet_bio_grid.jl\");\n",
    "include(\"../src/emodnet_bio_prep_oxy.jl\");\n",
    "pyplot()"
   ]
  },
  {
   "cell_type": "code",
   "execution_count": 18,
   "metadata": {},
   "outputs": [
    {
     "name": "stderr",
     "output_type": "stream",
     "text": [
      "┌ Info: Working on 4 files\n",
      "└ @ Main In[18]:3\n",
      "┌ Info: Working on 4 files\n",
      "└ @ Main In[18]:6\n"
     ]
    }
   ],
   "source": [
    "datadir1 = \"/home/ctroupin/Data/EMODnet/Chemistry/4Bio/Baltic Sea/\"\n",
    "filelist1 = list_data_files(datadir1);\n",
    "@info \"Working on $(length(filelist1)) files\"\n",
    "datadir2 = \"/home/ctroupin/Data/EMODnet/Chemistry/4Bio/North Sea/\"\n",
    "filelist2 = list_data_files(datadir2);\n",
    "@info \"Working on $(length(filelist2)) files\""
   ]
  },
  {
   "cell_type": "code",
   "execution_count": 19,
   "metadata": {
    "collapsed": true
   },
   "outputs": [],
   "source": [
    "# Grid for the final re-interpolated field\n",
    "field_interp = zeros(length(gridlon), length(gridlat), length(years));\n",
    "xx, yy = DIVAnd.ndgrid(gridlon, gridlat);"
   ]
  },
  {
   "cell_type": "code",
   "execution_count": 44,
   "metadata": {},
   "outputs": [],
   "source": [
    "# Mean fields from:\n",
    "# Baltic Sea\n",
    "lon1, lat1, meanfield1 = get_mean_field(filelist1, years);\n",
    "# North Sea\n",
    "lon2, lat2, meanfield2 = get_mean_field(filelist2, years);"
   ]
  },
  {
   "cell_type": "code",
   "execution_count": 45,
   "metadata": {},
   "outputs": [
    {
     "name": "stdout",
     "output_type": "stream",
     "text": [
      "size(meanfield1) = (216, 130, 7)\n",
      "size(meanfield2) = (185, 142, 7)\n"
     ]
    },
    {
     "data": {
      "text/plain": [
       "(185, 142, 7)"
      ]
     },
     "execution_count": 45,
     "metadata": {},
     "output_type": "execute_result"
    }
   ],
   "source": [
    "@show size(meanfield1)\n",
    "@show size(meanfield2)"
   ]
  },
  {
   "cell_type": "code",
   "execution_count": null,
   "metadata": {
    "collapsed": true
   },
   "outputs": [],
   "source": [
    "# Loop on the selected years\n",
    "for i = 1:length(years)\n",
    "    @info \"Year: $(years[i])\"\n",
    "    # Perform interpolation\n",
    "    tmp_itp = interpolate((lon, lat), meanfield[:,:,i], Gridded(Linear()));\n",
    "    itp =\n",
    "        @static if VERSION >= v\"0.7\"\n",
    "            extrapolate(tmp_itp,Line())\n",
    "        else\n",
    "            tmp_itp\n",
    "        end\n",
    "\n",
    "    field_interp[:,:,i] = itp.(xx, yy);\n",
    "end"
   ]
  },
  {
   "cell_type": "code",
   "execution_count": 4,
   "metadata": {},
   "outputs": [
    {
     "name": "stdout",
     "output_type": "stream",
     "text": [
      "search: \u001b[0m\u001b[1mD\u001b[22m\u001b[0m\u001b[1ma\u001b[22m\u001b[0m\u001b[1mt\u001b[22m\u001b[0m\u001b[1ma\u001b[22m\u001b[0m\u001b[1ms\u001b[22m\u001b[0m\u001b[1me\u001b[22m\u001b[0m\u001b[1mt\u001b[22m NC\u001b[0m\u001b[1mD\u001b[22m\u001b[0m\u001b[1ma\u001b[22m\u001b[0m\u001b[1mt\u001b[22m\u001b[0m\u001b[1ma\u001b[22m\u001b[0m\u001b[1ms\u001b[22m\u001b[0m\u001b[1me\u001b[22m\u001b[0m\u001b[1mt\u001b[22ms list_\u001b[0m\u001b[1md\u001b[22m\u001b[0m\u001b[1ma\u001b[22m\u001b[0m\u001b[1mt\u001b[22m\u001b[0m\u001b[1ma\u001b[22m_file\u001b[0m\u001b[1ms\u001b[22m @\u001b[0m\u001b[1md\u001b[22m\u001b[0m\u001b[1ma\u001b[22m\u001b[0m\u001b[1mt\u001b[22meform\u001b[0m\u001b[1ma\u001b[22mt_\u001b[0m\u001b[1ms\u001b[22mtr\n",
      "\n"
     ]
    },
    {
     "data": {
      "text/markdown": [
       "```\n",
       "Dataset(filename::AbstractString,mode::AbstractString = \"r\";\n",
       "                 format::Symbol = :netcdf4)\n",
       "```\n",
       "\n",
       "Create a new NetCDF file if the `mode` is \"c\". An existing file with the same name will be overwritten. If `mode` is \"a\", then an existing file is open into append mode (i.e. existing data in the netCDF file is not overwritten and a variable can be added). With the mode set to \"r\", an existing netCDF file or OPeNDAP URL can be open in read-only mode.  The default mode is \"r\".\n",
       "\n",
       "# Supported formats:\n",
       "\n",
       "  * :netcdf4 (default): HDF5-based NetCDF format.\n",
       "  * :netcdf4_classic: Only netCDF 3 compatible API features will be used.\n",
       "  * :netcdf3_classic: classic netCDF format supporting only files smaller than 2GB.\n",
       "  * :netcdf3*64bit*offset: improved netCDF format supporting files larger than 2GB.\n",
       "\n",
       "Files can also be open and automatically closed with a `do` block.\n",
       "\n",
       "```julia\n",
       "Dataset(\"file.nc\") do ds\n",
       "    data = ds[\"temperature\"][:,:]\n",
       "end\n",
       "```\n"
      ],
      "text/plain": [
       "\u001b[36m  Dataset(filename::AbstractString,mode::AbstractString = \"r\";\u001b[39m\n",
       "\u001b[36m                   format::Symbol = :netcdf4)\u001b[39m\n",
       "\n",
       "  Create a new NetCDF file if the \u001b[36mmode\u001b[39m is \"c\". An existing file with the same\n",
       "  name will be overwritten. If \u001b[36mmode\u001b[39m is \"a\", then an existing file is open into\n",
       "  append mode (i.e. existing data in the netCDF file is not overwritten and a\n",
       "  variable can be added). With the mode set to \"r\", an existing netCDF file or\n",
       "  OPeNDAP URL can be open in read-only mode. The default mode is \"r\".\n",
       "\n",
       "\u001b[1m  Supported formats:\u001b[22m\n",
       "\u001b[1m  ≡≡≡≡≡≡≡≡≡≡≡≡≡≡≡≡≡≡≡≡\u001b[22m\n",
       "\n",
       "    •    :netcdf4 (default): HDF5-based NetCDF format.\n",
       "\n",
       "    •    :netcdf4_classic: Only netCDF 3 compatible API features will be\n",
       "        used.\n",
       "\n",
       "    •    :netcdf3_classic: classic netCDF format supporting only files\n",
       "        smaller than 2GB.\n",
       "\n",
       "    •    :netcdf3\u001b[4m64bit\u001b[24moffset: improved netCDF format supporting files\n",
       "        larger than 2GB.\n",
       "\n",
       "  Files can also be open and automatically closed with a \u001b[36mdo\u001b[39m block.\n",
       "\n",
       "\u001b[36m  Dataset(\"file.nc\") do ds\u001b[39m\n",
       "\u001b[36m      data = ds[\"temperature\"][:,:]\u001b[39m\n",
       "\u001b[36m  end\u001b[39m"
      ]
     },
     "execution_count": 4,
     "metadata": {},
     "output_type": "execute_result"
    }
   ],
   "source": [
    "write_oxy_interp(gridlon, gridlat, years, field_interp, joinpath(datadir, \"oxygen_reinterp.nc\"));"
   ]
  },
  {
   "cell_type": "code",
   "execution_count": 31,
   "metadata": {},
   "outputs": [],
   "source": [
    "llon = collect(10:2.:20)\n",
    "llat = collect(20:.5:31.)\n",
    "npoints = length(llon) * length(llat)\n",
    "fieldRand = Random.rand(npoints);"
   ]
  },
  {
   "cell_type": "code",
   "execution_count": 37,
   "metadata": {},
   "outputs": [],
   "source": [
    "fieldRand2 = ones(length(llon), length(llat));"
   ]
  },
  {
   "cell_type": "code",
   "execution_count": 40,
   "metadata": {},
   "outputs": [
    {
     "ename": "MethodError",
     "evalue": "MethodError: no method matching interpolate(::Tuple{Array{Float64,1},Array{Float64,1}}, ::Array{Float64,1}, ::Gridded{Linear})\nClosest candidates are:\n  interpolate(::Tuple{Vararg{Union{AbstractArray{T,1}, Tuple} where T,N}}, !Matched::AbstractArray{Tel,N}, ::IT<:Union{NoInterp, Tuple{Vararg{Union{NoInterp, Gridded},N} where N}, Gridded}) where {Tel, N, IT<:Union{NoInterp, Tuple{Vararg{Union{NoInterp, Gridded},N} where N}, Gridded}} at /home/ctroupin/.julia/packages/Interpolations/s7aNF/src/gridded/gridded.jl:61\n  interpolate(!Matched::Type{TWeights}, !Matched::Type{TC}, ::Any, !Matched::IT<:Union{NoInterp, Tuple{Vararg{Union{NoInterp, BSpline},N} where N}, BSpline}) where {TWeights, TC, IT<:Union{NoInterp, Tuple{Vararg{Union{NoInterp, BSpline},N} where N}, BSpline}} at /home/ctroupin/.julia/packages/Interpolations/s7aNF/src/b-splines/b-splines.jl:103\n  interpolate(!Matched::AbstractArray{#s35,1} where #s35<:Number, ::AbstractArray{TEl,1}, !Matched::TInterpolationType<:Interpolations.MonotonicInterpolationType) where {TEl, TInterpolationType<:MonotonicInterpolationType} at /home/ctroupin/.julia/packages/Interpolations/s7aNF/src/monotonic/monotonic.jl:171\n  ...",
     "output_type": "error",
     "traceback": [
      "MethodError: no method matching interpolate(::Tuple{Array{Float64,1},Array{Float64,1}}, ::Array{Float64,1}, ::Gridded{Linear})\nClosest candidates are:\n  interpolate(::Tuple{Vararg{Union{AbstractArray{T,1}, Tuple} where T,N}}, !Matched::AbstractArray{Tel,N}, ::IT<:Union{NoInterp, Tuple{Vararg{Union{NoInterp, Gridded},N} where N}, Gridded}) where {Tel, N, IT<:Union{NoInterp, Tuple{Vararg{Union{NoInterp, Gridded},N} where N}, Gridded}} at /home/ctroupin/.julia/packages/Interpolations/s7aNF/src/gridded/gridded.jl:61\n  interpolate(!Matched::Type{TWeights}, !Matched::Type{TC}, ::Any, !Matched::IT<:Union{NoInterp, Tuple{Vararg{Union{NoInterp, BSpline},N} where N}, BSpline}) where {TWeights, TC, IT<:Union{NoInterp, Tuple{Vararg{Union{NoInterp, BSpline},N} where N}, BSpline}} at /home/ctroupin/.julia/packages/Interpolations/s7aNF/src/b-splines/b-splines.jl:103\n  interpolate(!Matched::AbstractArray{#s35,1} where #s35<:Number, ::AbstractArray{TEl,1}, !Matched::TInterpolationType<:Interpolations.MonotonicInterpolationType) where {TEl, TInterpolationType<:MonotonicInterpolationType} at /home/ctroupin/.julia/packages/Interpolations/s7aNF/src/monotonic/monotonic.jl:171\n  ...",
      "",
      "Stacktrace:",
      " [1] top-level scope at In[40]:1"
     ]
    }
   ],
   "source": [
    "tmp_itp = interpolate((llon, llat), fieldRand, Gridded(Linear()));"
   ]
  },
  {
   "cell_type": "code",
   "execution_count": 42,
   "metadata": {},
   "outputs": [
    {
     "data": {
      "text/plain": [
       "0.10000038f0"
      ]
     },
     "execution_count": 42,
     "metadata": {},
     "output_type": "execute_result"
    }
   ],
   "source": [
    "lon1[2] - lon1[1]"
   ]
  },
  {
   "cell_type": "code",
   "execution_count": 43,
   "metadata": {},
   "outputs": [
    {
     "data": {
      "text/plain": [
       "0.099999905f0"
      ]
     },
     "execution_count": 43,
     "metadata": {},
     "output_type": "execute_result"
    }
   ],
   "source": [
    "lon2[2] - lon2[1]"
   ]
  },
  {
   "cell_type": "code",
   "execution_count": null,
   "metadata": {
    "collapsed": true
   },
   "outputs": [],
   "source": []
  }
 ],
 "metadata": {
  "kernelspec": {
   "display_name": "Julia 1.0.0",
   "language": "julia",
   "name": "julia-1.0"
  },
  "language_info": {
   "file_extension": ".jl",
   "mimetype": "application/julia",
   "name": "julia",
   "version": "1.0.0"
  }
 },
 "nbformat": 4,
 "nbformat_minor": 2
}
