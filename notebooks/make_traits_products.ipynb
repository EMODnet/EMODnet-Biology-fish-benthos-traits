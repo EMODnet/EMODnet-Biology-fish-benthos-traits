{
 "cells": [
  {
   "cell_type": "code",
   "execution_count": 1,
   "metadata": {
    "collapsed": true
   },
   "outputs": [],
   "source": [
    "using DIVAnd\n",
    "using PyPlot\n",
    "using NCDatasets\n",
    "using Missings\n",
    "using Interpolations\n",
    "\n",
    "if VERSION >= v\"0.7\"\n",
    "    using Random\n",
    "    using DelimitedFiles\n",
    "    using Statistics\n",
    "    using Printf\n",
    "    using FileIO\n",
    "else\n",
    "    using Compat: @info, @warn, range, cat\n",
    "end"
   ]
  },
  {
   "cell_type": "code",
   "execution_count": 27,
   "metadata": {},
   "outputs": [],
   "source": [
    "# Module where the output grid and the modules are defined\n",
    "include(\"../src/emodnet_bio_grid.jl\");\n",
    "include(\"../src/make_traits_products.jl\");"
   ]
  },
  {
   "cell_type": "code",
   "execution_count": 4,
   "metadata": {},
   "outputs": [
    {
     "data": {
      "text/plain": [
       "\"../output/traits/Benthos_Traits_ab.nc\""
      ]
     },
     "execution_count": 4,
     "metadata": {},
     "output_type": "execute_result"
    }
   ],
   "source": [
    "datafile = \"/home/ctroupin/tmp/Emodnet-Bio/Traits/Benthos_Traits_ab.csv\"\n",
    "outputfile = joinpath(outputdirTraits, replace(basename(datafile), \".csv\" => \".nc\"))"
   ]
  },
  {
   "cell_type": "markdown",
   "metadata": {},
   "source": [
    "## Read data"
   ]
  },
  {
   "cell_type": "code",
   "execution_count": 5,
   "metadata": {},
   "outputs": [
    {
     "name": "stderr",
     "output_type": "stream",
     "text": [
      "┌ Info: Working on 62 traits\n",
      "└ @ Main In[5]:8\n"
     ]
    }
   ],
   "source": [
    "if isfile(datafile)\n",
    "    data, header = readdlm(datafile,',',header = true);\n",
    "else\n",
    "    @warn \"Data file doesn't exist\"\n",
    "end\n",
    "varlist = header[5:end];\n",
    "ntraits = length(varlist);\n",
    "@info \"Working on $(ntraits) traits\""
   ]
  },
  {
   "cell_type": "code",
   "execution_count": 29,
   "metadata": {},
   "outputs": [
    {
     "name": "stdout",
     "output_type": "stream",
     "text": [
      "search: \u001b[0m\u001b[1mr\u001b[22m\u001b[0m\u001b[1me\u001b[22m\u001b[0m\u001b[1ma\u001b[22m\u001b[0m\u001b[1md\u001b[22m\u001b[0m\u001b[1md\u001b[22m\u001b[0m\u001b[1ml\u001b[22m\u001b[0m\u001b[1mm\u001b[22m \u001b[0m\u001b[1mr\u001b[22m\u001b[0m\u001b[1me\u001b[22m\u001b[0m\u001b[1ma\u001b[22m\u001b[0m\u001b[1md\u001b[22m\u001b[0m\u001b[1md\u001b[22mir\n",
      "\n"
     ]
    },
    {
     "data": {
      "text/markdown": [
       "```\n",
       "readdlm(source, T::Type; options...)\n",
       "```\n",
       "\n",
       "The columns are assumed to be separated by one or more whitespaces. The end of line delimiter is taken as `\\n`.\n",
       "\n",
       "# Examples\n",
       "\n",
       "```jldoctest\n",
       "julia> using DelimitedFiles\n",
       "\n",
       "julia> x = [1; 2; 3; 4];\n",
       "\n",
       "julia> y = [5; 6; 7; 8];\n",
       "\n",
       "julia> open(\"delim_file.txt\", \"w\") do io\n",
       "           writedlm(io, [x y])\n",
       "       end;\n",
       "\n",
       "julia> readdlm(\"delim_file.txt\", Int64)\n",
       "4×2 Array{Int64,2}:\n",
       " 1  5\n",
       " 2  6\n",
       " 3  7\n",
       " 4  8\n",
       "\n",
       "julia> readdlm(\"delim_file.txt\", Float64)\n",
       "4×2 Array{Float64,2}:\n",
       " 1.0  5.0\n",
       " 2.0  6.0\n",
       " 3.0  7.0\n",
       " 4.0  8.0\n",
       "\n",
       "julia> rm(\"delim_file.txt\")\n",
       "```\n",
       "\n",
       "---\n",
       "\n",
       "```\n",
       "readdlm(source, delim::AbstractChar, T::Type; options...)\n",
       "```\n",
       "\n",
       "The end of line delimiter is taken as `\\n`.\n",
       "\n",
       "# Examples\n",
       "\n",
       "```jldoctest\n",
       "julia> using DelimitedFiles\n",
       "\n",
       "julia> x = [1; 2; 3; 4];\n",
       "\n",
       "julia> y = [1.1; 2.2; 3.3; 4.4];\n",
       "\n",
       "julia> open(\"delim_file.txt\", \"w\") do io\n",
       "           writedlm(io, [x y], ',')\n",
       "       end;\n",
       "\n",
       "julia> readdlm(\"delim_file.txt\", ',', Float64)\n",
       "4×2 Array{Float64,2}:\n",
       " 1.0  1.1\n",
       " 2.0  2.2\n",
       " 3.0  3.3\n",
       " 4.0  4.4\n",
       "\n",
       "julia> rm(\"delim_file.txt\")\n",
       "```\n",
       "\n",
       "---\n",
       "\n",
       "```\n",
       "readdlm(source; options...)\n",
       "```\n",
       "\n",
       "The columns are assumed to be separated by one or more whitespaces. The end of line delimiter is taken as `\\n`. If all data is numeric, the result will be a numeric array. If some elements cannot be parsed as numbers, a heterogeneous array of numbers and strings is returned.\n",
       "\n",
       "# Examples\n",
       "\n",
       "```jldoctest\n",
       "julia> using DelimitedFiles\n",
       "\n",
       "julia> x = [1; 2; 3; 4];\n",
       "\n",
       "julia> y = [\"a\"; \"b\"; \"c\"; \"d\"];\n",
       "\n",
       "julia> open(\"delim_file.txt\", \"w\") do io\n",
       "           writedlm(io, [x y])\n",
       "       end;\n",
       "\n",
       "julia> readdlm(\"delim_file.txt\")\n",
       "4×2 Array{Any,2}:\n",
       " 1  \"a\"\n",
       " 2  \"b\"\n",
       " 3  \"c\"\n",
       " 4  \"d\"\n",
       "\n",
       "julia> rm(\"delim_file.txt\")\n",
       "```\n",
       "\n",
       "---\n",
       "\n",
       "```\n",
       "readdlm(source, delim::AbstractChar; options...)\n",
       "```\n",
       "\n",
       "The end of line delimiter is taken as `\\n`. If all data is numeric, the result will be a numeric array. If some elements cannot be parsed as numbers, a heterogeneous array of numbers and strings is returned.\n",
       "\n",
       "# Examples\n",
       "\n",
       "```jldoctest\n",
       "julia> using DelimitedFiles\n",
       "\n",
       "julia> x = [1; 2; 3; 4];\n",
       "\n",
       "julia> y = [1.1; 2.2; 3.3; 4.4];\n",
       "\n",
       "julia> open(\"delim_file.txt\", \"w\") do io\n",
       "           writedlm(io, [x y], ',')\n",
       "       end;\n",
       "\n",
       "julia> readdlm(\"delim_file.txt\", ',')\n",
       "4×2 Array{Float64,2}:\n",
       " 1.0  1.1\n",
       " 2.0  2.2\n",
       " 3.0  3.3\n",
       " 4.0  4.4\n",
       "\n",
       "julia> rm(\"delim_file.txt\")\n",
       "\n",
       "julia> z = [\"a\"; \"b\"; \"c\"; \"d\"];\n",
       "\n",
       "julia> open(\"delim_file.txt\", \"w\") do io\n",
       "           writedlm(io, [x z], ',')\n",
       "       end;\n",
       "\n",
       "julia> readdlm(\"delim_file.txt\", ',')\n",
       "4×2 Array{Any,2}:\n",
       " 1  \"a\"\n",
       " 2  \"b\"\n",
       " 3  \"c\"\n",
       " 4  \"d\"\n",
       "\n",
       "julia> rm(\"delim_file.txt\")\n",
       "```\n",
       "\n",
       "---\n",
       "\n",
       "```\n",
       "readdlm(source, delim::AbstractChar, eol::AbstractChar; options...)\n",
       "```\n",
       "\n",
       "If all data is numeric, the result will be a numeric array. If some elements cannot be parsed as numbers, a heterogeneous array of numbers and strings is returned.\n",
       "\n",
       "---\n",
       "\n",
       "```\n",
       "readdlm(source, delim::AbstractChar, T::Type, eol::AbstractChar; header=false, skipstart=0, skipblanks=true, use_mmap, quotes=true, dims, comments=false, comment_char='#')\n",
       "```\n",
       "\n",
       "Read a matrix from the source where each line (separated by `eol`) gives one row, with elements separated by the given delimiter. The source can be a text file, stream or byte array. Memory mapped files can be used by passing the byte array representation of the mapped segment as source.\n",
       "\n",
       "If `T` is a numeric type, the result is an array of that type, with any non-numeric elements as `NaN` for floating-point types, or zero. Other useful values of `T` include `String`, `AbstractString`, and `Any`.\n",
       "\n",
       "If `header` is `true`, the first row of data will be read as header and the tuple `(data_cells, header_cells)` is returned instead of only `data_cells`.\n",
       "\n",
       "Specifying `skipstart` will ignore the corresponding number of initial lines from the input.\n",
       "\n",
       "If `skipblanks` is `true`, blank lines in the input will be ignored.\n",
       "\n",
       "If `use_mmap` is `true`, the file specified by `source` is memory mapped for potential speedups. Default is `true` except on Windows. On Windows, you may want to specify `true` if the file is large, and is only read once and not written to.\n",
       "\n",
       "If `quotes` is `true`, columns enclosed within double-quote (\") characters are allowed to contain new lines and column delimiters. Double-quote characters within a quoted field must be escaped with another double-quote.  Specifying `dims` as a tuple of the expected rows and columns (including header, if any) may speed up reading of large files.  If `comments` is `true`, lines beginning with `comment_char` and text following `comment_char` in any line are ignored.\n",
       "\n",
       "# Examples\n",
       "\n",
       "```jldoctest\n",
       "julia> using DelimitedFiles\n",
       "\n",
       "julia> x = [1; 2; 3; 4];\n",
       "\n",
       "julia> y = [5; 6; 7; 8];\n",
       "\n",
       "julia> open(\"delim_file.txt\", \"w\") do io\n",
       "           writedlm(io, [x y])\n",
       "       end\n",
       "\n",
       "julia> readdlm(\"delim_file.txt\", '\\t', Int, '\\n')\n",
       "4×2 Array{Int64,2}:\n",
       " 1  5\n",
       " 2  6\n",
       " 3  7\n",
       " 4  8\n",
       "```\n"
      ],
      "text/plain": [
       "\u001b[36m  readdlm(source, T::Type; options...)\u001b[39m\n",
       "\n",
       "  The columns are assumed to be separated by one or more whitespaces. The end\n",
       "  of line delimiter is taken as \u001b[36m\\n\u001b[39m.\n",
       "\n",
       "\u001b[1m  Examples\u001b[22m\n",
       "\u001b[1m  ≡≡≡≡≡≡≡≡≡≡\u001b[22m\n",
       "\n",
       "\u001b[36m  julia> using DelimitedFiles\u001b[39m\n",
       "\u001b[36m  \u001b[39m\n",
       "\u001b[36m  julia> x = [1; 2; 3; 4];\u001b[39m\n",
       "\u001b[36m  \u001b[39m\n",
       "\u001b[36m  julia> y = [5; 6; 7; 8];\u001b[39m\n",
       "\u001b[36m  \u001b[39m\n",
       "\u001b[36m  julia> open(\"delim_file.txt\", \"w\") do io\u001b[39m\n",
       "\u001b[36m             writedlm(io, [x y])\u001b[39m\n",
       "\u001b[36m         end;\u001b[39m\n",
       "\u001b[36m  \u001b[39m\n",
       "\u001b[36m  julia> readdlm(\"delim_file.txt\", Int64)\u001b[39m\n",
       "\u001b[36m  4×2 Array{Int64,2}:\u001b[39m\n",
       "\u001b[36m   1  5\u001b[39m\n",
       "\u001b[36m   2  6\u001b[39m\n",
       "\u001b[36m   3  7\u001b[39m\n",
       "\u001b[36m   4  8\u001b[39m\n",
       "\u001b[36m  \u001b[39m\n",
       "\u001b[36m  julia> readdlm(\"delim_file.txt\", Float64)\u001b[39m\n",
       "\u001b[36m  4×2 Array{Float64,2}:\u001b[39m\n",
       "\u001b[36m   1.0  5.0\u001b[39m\n",
       "\u001b[36m   2.0  6.0\u001b[39m\n",
       "\u001b[36m   3.0  7.0\u001b[39m\n",
       "\u001b[36m   4.0  8.0\u001b[39m\n",
       "\u001b[36m  \u001b[39m\n",
       "\u001b[36m  julia> rm(\"delim_file.txt\")\u001b[39m\n",
       "\n",
       "  ────────────────────────────────────────────────────────────────────────────\n",
       "\n",
       "\u001b[36m  readdlm(source, delim::AbstractChar, T::Type; options...)\u001b[39m\n",
       "\n",
       "  The end of line delimiter is taken as \u001b[36m\\n\u001b[39m.\n",
       "\n",
       "\u001b[1m  Examples\u001b[22m\n",
       "\u001b[1m  ≡≡≡≡≡≡≡≡≡≡\u001b[22m\n",
       "\n",
       "\u001b[36m  julia> using DelimitedFiles\u001b[39m\n",
       "\u001b[36m  \u001b[39m\n",
       "\u001b[36m  julia> x = [1; 2; 3; 4];\u001b[39m\n",
       "\u001b[36m  \u001b[39m\n",
       "\u001b[36m  julia> y = [1.1; 2.2; 3.3; 4.4];\u001b[39m\n",
       "\u001b[36m  \u001b[39m\n",
       "\u001b[36m  julia> open(\"delim_file.txt\", \"w\") do io\u001b[39m\n",
       "\u001b[36m             writedlm(io, [x y], ',')\u001b[39m\n",
       "\u001b[36m         end;\u001b[39m\n",
       "\u001b[36m  \u001b[39m\n",
       "\u001b[36m  julia> readdlm(\"delim_file.txt\", ',', Float64)\u001b[39m\n",
       "\u001b[36m  4×2 Array{Float64,2}:\u001b[39m\n",
       "\u001b[36m   1.0  1.1\u001b[39m\n",
       "\u001b[36m   2.0  2.2\u001b[39m\n",
       "\u001b[36m   3.0  3.3\u001b[39m\n",
       "\u001b[36m   4.0  4.4\u001b[39m\n",
       "\u001b[36m  \u001b[39m\n",
       "\u001b[36m  julia> rm(\"delim_file.txt\")\u001b[39m\n",
       "\n",
       "  ────────────────────────────────────────────────────────────────────────────\n",
       "\n",
       "\u001b[36m  readdlm(source; options...)\u001b[39m\n",
       "\n",
       "  The columns are assumed to be separated by one or more whitespaces. The end\n",
       "  of line delimiter is taken as \u001b[36m\\n\u001b[39m. If all data is numeric, the result will be\n",
       "  a numeric array. If some elements cannot be parsed as numbers, a\n",
       "  heterogeneous array of numbers and strings is returned.\n",
       "\n",
       "\u001b[1m  Examples\u001b[22m\n",
       "\u001b[1m  ≡≡≡≡≡≡≡≡≡≡\u001b[22m\n",
       "\n",
       "\u001b[36m  julia> using DelimitedFiles\u001b[39m\n",
       "\u001b[36m  \u001b[39m\n",
       "\u001b[36m  julia> x = [1; 2; 3; 4];\u001b[39m\n",
       "\u001b[36m  \u001b[39m\n",
       "\u001b[36m  julia> y = [\"a\"; \"b\"; \"c\"; \"d\"];\u001b[39m\n",
       "\u001b[36m  \u001b[39m\n",
       "\u001b[36m  julia> open(\"delim_file.txt\", \"w\") do io\u001b[39m\n",
       "\u001b[36m             writedlm(io, [x y])\u001b[39m\n",
       "\u001b[36m         end;\u001b[39m\n",
       "\u001b[36m  \u001b[39m\n",
       "\u001b[36m  julia> readdlm(\"delim_file.txt\")\u001b[39m\n",
       "\u001b[36m  4×2 Array{Any,2}:\u001b[39m\n",
       "\u001b[36m   1  \"a\"\u001b[39m\n",
       "\u001b[36m   2  \"b\"\u001b[39m\n",
       "\u001b[36m   3  \"c\"\u001b[39m\n",
       "\u001b[36m   4  \"d\"\u001b[39m\n",
       "\u001b[36m  \u001b[39m\n",
       "\u001b[36m  julia> rm(\"delim_file.txt\")\u001b[39m\n",
       "\n",
       "  ────────────────────────────────────────────────────────────────────────────\n",
       "\n",
       "\u001b[36m  readdlm(source, delim::AbstractChar; options...)\u001b[39m\n",
       "\n",
       "  The end of line delimiter is taken as \u001b[36m\\n\u001b[39m. If all data is numeric, the result\n",
       "  will be a numeric array. If some elements cannot be parsed as numbers, a\n",
       "  heterogeneous array of numbers and strings is returned.\n",
       "\n",
       "\u001b[1m  Examples\u001b[22m\n",
       "\u001b[1m  ≡≡≡≡≡≡≡≡≡≡\u001b[22m\n",
       "\n",
       "\u001b[36m  julia> using DelimitedFiles\u001b[39m\n",
       "\u001b[36m  \u001b[39m\n",
       "\u001b[36m  julia> x = [1; 2; 3; 4];\u001b[39m\n",
       "\u001b[36m  \u001b[39m\n",
       "\u001b[36m  julia> y = [1.1; 2.2; 3.3; 4.4];\u001b[39m\n",
       "\u001b[36m  \u001b[39m\n",
       "\u001b[36m  julia> open(\"delim_file.txt\", \"w\") do io\u001b[39m\n",
       "\u001b[36m             writedlm(io, [x y], ',')\u001b[39m\n",
       "\u001b[36m         end;\u001b[39m\n",
       "\u001b[36m  \u001b[39m\n",
       "\u001b[36m  julia> readdlm(\"delim_file.txt\", ',')\u001b[39m\n",
       "\u001b[36m  4×2 Array{Float64,2}:\u001b[39m\n",
       "\u001b[36m   1.0  1.1\u001b[39m\n",
       "\u001b[36m   2.0  2.2\u001b[39m\n",
       "\u001b[36m   3.0  3.3\u001b[39m\n",
       "\u001b[36m   4.0  4.4\u001b[39m\n",
       "\u001b[36m  \u001b[39m\n",
       "\u001b[36m  julia> rm(\"delim_file.txt\")\u001b[39m\n",
       "\u001b[36m  \u001b[39m\n",
       "\u001b[36m  julia> z = [\"a\"; \"b\"; \"c\"; \"d\"];\u001b[39m\n",
       "\u001b[36m  \u001b[39m\n",
       "\u001b[36m  julia> open(\"delim_file.txt\", \"w\") do io\u001b[39m\n",
       "\u001b[36m             writedlm(io, [x z], ',')\u001b[39m\n",
       "\u001b[36m         end;\u001b[39m\n",
       "\u001b[36m  \u001b[39m\n",
       "\u001b[36m  julia> readdlm(\"delim_file.txt\", ',')\u001b[39m\n",
       "\u001b[36m  4×2 Array{Any,2}:\u001b[39m\n",
       "\u001b[36m   1  \"a\"\u001b[39m\n",
       "\u001b[36m   2  \"b\"\u001b[39m\n",
       "\u001b[36m   3  \"c\"\u001b[39m\n",
       "\u001b[36m   4  \"d\"\u001b[39m\n",
       "\u001b[36m  \u001b[39m\n",
       "\u001b[36m  julia> rm(\"delim_file.txt\")\u001b[39m\n",
       "\n",
       "  ────────────────────────────────────────────────────────────────────────────\n",
       "\n",
       "\u001b[36m  readdlm(source, delim::AbstractChar, eol::AbstractChar; options...)\u001b[39m\n",
       "\n",
       "  If all data is numeric, the result will be a numeric array. If some elements\n",
       "  cannot be parsed as numbers, a heterogeneous array of numbers and strings is\n",
       "  returned.\n",
       "\n",
       "  ────────────────────────────────────────────────────────────────────────────\n",
       "\n",
       "\u001b[36m  readdlm(source, delim::AbstractChar, T::Type, eol::AbstractChar; header=false, skipstart=0, skipblanks=true, use_mmap, quotes=true, dims, comments=false, comment_char='#')\u001b[39m\n",
       "\n",
       "  Read a matrix from the source where each line (separated by \u001b[36meol\u001b[39m) gives one\n",
       "  row, with elements separated by the given delimiter. The source can be a\n",
       "  text file, stream or byte array. Memory mapped files can be used by passing\n",
       "  the byte array representation of the mapped segment as source.\n",
       "\n",
       "  If \u001b[36mT\u001b[39m is a numeric type, the result is an array of that type, with any\n",
       "  non-numeric elements as \u001b[36mNaN\u001b[39m for floating-point types, or zero. Other useful\n",
       "  values of \u001b[36mT\u001b[39m include \u001b[36mString\u001b[39m, \u001b[36mAbstractString\u001b[39m, and \u001b[36mAny\u001b[39m.\n",
       "\n",
       "  If \u001b[36mheader\u001b[39m is \u001b[36mtrue\u001b[39m, the first row of data will be read as header and the\n",
       "  tuple \u001b[36m(data_cells, header_cells)\u001b[39m is returned instead of only \u001b[36mdata_cells\u001b[39m.\n",
       "\n",
       "  Specifying \u001b[36mskipstart\u001b[39m will ignore the corresponding number of initial lines\n",
       "  from the input.\n",
       "\n",
       "  If \u001b[36mskipblanks\u001b[39m is \u001b[36mtrue\u001b[39m, blank lines in the input will be ignored.\n",
       "\n",
       "  If \u001b[36muse_mmap\u001b[39m is \u001b[36mtrue\u001b[39m, the file specified by \u001b[36msource\u001b[39m is memory mapped for\n",
       "  potential speedups. Default is \u001b[36mtrue\u001b[39m except on Windows. On Windows, you may\n",
       "  want to specify \u001b[36mtrue\u001b[39m if the file is large, and is only read once and not\n",
       "  written to.\n",
       "\n",
       "  If \u001b[36mquotes\u001b[39m is \u001b[36mtrue\u001b[39m, columns enclosed within double-quote (\") characters are\n",
       "  allowed to contain new lines and column delimiters. Double-quote characters\n",
       "  within a quoted field must be escaped with another double-quote. Specifying\n",
       "  \u001b[36mdims\u001b[39m as a tuple of the expected rows and columns (including header, if any)\n",
       "  may speed up reading of large files. If \u001b[36mcomments\u001b[39m is \u001b[36mtrue\u001b[39m, lines beginning\n",
       "  with \u001b[36mcomment_char\u001b[39m and text following \u001b[36mcomment_char\u001b[39m in any line are ignored.\n",
       "\n",
       "\u001b[1m  Examples\u001b[22m\n",
       "\u001b[1m  ≡≡≡≡≡≡≡≡≡≡\u001b[22m\n",
       "\n",
       "\u001b[36m  julia> using DelimitedFiles\u001b[39m\n",
       "\u001b[36m  \u001b[39m\n",
       "\u001b[36m  julia> x = [1; 2; 3; 4];\u001b[39m\n",
       "\u001b[36m  \u001b[39m\n",
       "\u001b[36m  julia> y = [5; 6; 7; 8];\u001b[39m\n",
       "\u001b[36m  \u001b[39m\n",
       "\u001b[36m  julia> open(\"delim_file.txt\", \"w\") do io\u001b[39m\n",
       "\u001b[36m             writedlm(io, [x y])\u001b[39m\n",
       "\u001b[36m         end\u001b[39m\n",
       "\u001b[36m  \u001b[39m\n",
       "\u001b[36m  julia> readdlm(\"delim_file.txt\", '\\t', Int, '\\n')\u001b[39m\n",
       "\u001b[36m  4×2 Array{Int64,2}:\u001b[39m\n",
       "\u001b[36m   1  5\u001b[39m\n",
       "\u001b[36m   2  6\u001b[39m\n",
       "\u001b[36m   3  7\u001b[39m\n",
       "\u001b[36m   4  8\u001b[39m"
      ]
     },
     "execution_count": 29,
     "metadata": {},
     "output_type": "execute_result"
    }
   ],
   "source": [
    "?readdlm"
   ]
  },
  {
   "cell_type": "markdown",
   "metadata": {},
   "source": [
    "### Get coordinates"
   ]
  },
  {
   "cell_type": "code",
   "execution_count": 6,
   "metadata": {},
   "outputs": [],
   "source": [
    "indexlon = findfirst(header .== \"x\").I[2];\n",
    "indexlat = findfirst(header .== \"y\").I[2];\n",
    "obslon = Vector{Float64}(data[:,indexlon]);\n",
    "obslat = Vector{Float64}(data[:,indexlat]);"
   ]
  },
  {
   "cell_type": "markdown",
   "metadata": {},
   "source": [
    "### Mask and bathymetry"
   ]
  },
  {
   "cell_type": "code",
   "execution_count": 7,
   "metadata": {},
   "outputs": [
    {
     "name": "stderr",
     "output_type": "stream",
     "text": [
      "┌ Info: (451, 371)\n",
      "└ @ Main In[7]:15\n"
     ]
    }
   ],
   "source": [
    "# Grid stored in emodnet_bio_grid.jl\n",
    "xi,yi = DIVAnd.ndgrid(gridlonBenthos, gridlatBenthos);\n",
    "\n",
    "# Mask\n",
    "topodir = \"../data/\"\n",
    "topofile = joinpath(topodir, \"gebco_30sec_8.nc\");\n",
    "\n",
    "if isfile(topofile)\n",
    "    bx, by, b = DIVAnd.load_bath(topofile,true,gridlonBenthos, gridlatBenthos);\n",
    "    xmask, ymask, mmask = DIVAnd.load_mask(topofile,true,gridlonBenthos, gridlatBenthos,[0]);\n",
    "else\n",
    "    @error \"Bathymetry file doesn't exist\"\n",
    "end\n",
    "mmask = mmask[:,:,1]\n",
    "@info size(mmask)\n",
    "\n",
    "# Metrics\n",
    "pm = ones(size(xi)) / (xi[2,1]-xi[1,1]);\n",
    "pn = ones(size(xi)) / (yi[1,2]-yi[1,1]);"
   ]
  },
  {
   "cell_type": "markdown",
   "metadata": {},
   "source": [
    "## Parameter choice "
   ]
  },
  {
   "cell_type": "code",
   "execution_count": 10,
   "metadata": {
    "collapsed": true
   },
   "outputs": [],
   "source": [
    "# Correlation length\n",
    "len = 4.;\n",
    "# Observational error variance normalized by the background error variance\n",
    "epsilon2 = 10.;"
   ]
  },
  {
   "cell_type": "markdown",
   "metadata": {},
   "source": [
    "The weight is decreased for very close points."
   ]
  },
  {
   "cell_type": "code",
   "execution_count": 11,
   "metadata": {},
   "outputs": [
    {
     "name": "stdout",
     "output_type": "stream",
     "text": [
      "(maximum(rdiag), mean(rdiag)) = (439.41430029504994, 33.49833660679846)\n"
     ]
    }
   ],
   "source": [
    "rdiag=1.0./DIVAnd.weight_RtimesOne((obslon, obslat),(0.03,0.03))\n",
    "@show maximum(rdiag),mean(rdiag);\n",
    "epsilon2 = epsilon2*rdiag;"
   ]
  },
  {
   "cell_type": "markdown",
   "metadata": {},
   "source": [
    "## Analysis\n",
    "All the fields are stored in a 3D array, to be later written to a netCDF file."
   ]
  },
  {
   "cell_type": "code",
   "execution_count": 12,
   "metadata": {},
   "outputs": [
    {
     "name": "stderr",
     "output_type": "stream",
     "text": [
      "┌ Info: Working on Body.length..1cm\n",
      "└ @ Main In[12]:5\n"
     ]
    },
    {
     "name": "stdout",
     "output_type": "stream",
     "text": [
      " 12.817391 seconds (27.17 M allocations: 2.641 GiB, 14.58% gc time)\n"
     ]
    },
    {
     "name": "stderr",
     "output_type": "stream",
     "text": [
      "┌ Info: Computing error field\n",
      "└ @ Main In[12]:10\n",
      "┌ Info: Working on Body.length.1.3cm\n",
      "└ @ Main In[12]:5\n"
     ]
    },
    {
     "name": "stdout",
     "output_type": "stream",
     "text": [
      "  1.787046 seconds (2.30 M allocations: 1.450 GiB, 56.17% gc time)\n"
     ]
    },
    {
     "name": "stderr",
     "output_type": "stream",
     "text": [
      "┌ Info: Working on Body.length.3.10cm\n",
      "└ @ Main In[12]:5\n"
     ]
    },
    {
     "name": "stdout",
     "output_type": "stream",
     "text": [
      "  1.799711 seconds (2.30 M allocations: 1.450 GiB, 55.68% gc time)\n"
     ]
    },
    {
     "name": "stderr",
     "output_type": "stream",
     "text": [
      "┌ Info: Working on Body.length.10.20cm\n",
      "└ @ Main In[12]:5\n"
     ]
    },
    {
     "name": "stdout",
     "output_type": "stream",
     "text": [
      "  1.840429 seconds (2.30 M allocations: 1.450 GiB, 56.25% gc time)\n"
     ]
    },
    {
     "name": "stderr",
     "output_type": "stream",
     "text": [
      "┌ Info: Working on Body.length.20.50cm\n",
      "└ @ Main In[12]:5\n"
     ]
    },
    {
     "name": "stdout",
     "output_type": "stream",
     "text": [
      "  1.815266 seconds (2.30 M allocations: 1.450 GiB, 56.43% gc time)\n"
     ]
    },
    {
     "name": "stderr",
     "output_type": "stream",
     "text": [
      "┌ Info: Working on Body.length..50cm\n",
      "└ @ Main In[12]:5\n"
     ]
    },
    {
     "name": "stdout",
     "output_type": "stream",
     "text": [
      "  3.101076 seconds (2.30 M allocations: 1.450 GiB, 32.97% gc time)\n"
     ]
    },
    {
     "name": "stderr",
     "output_type": "stream",
     "text": [
      "┌ Info: Working on Fragility.Fragile\n",
      "└ @ Main In[12]:5\n"
     ]
    },
    {
     "name": "stdout",
     "output_type": "stream",
     "text": [
      "  1.911733 seconds (2.30 M allocations: 1.450 GiB, 56.18% gc time)\n"
     ]
    },
    {
     "name": "stderr",
     "output_type": "stream",
     "text": [
      "┌ Info: Working on Fragility.Intermediate\n",
      "└ @ Main In[12]:5\n"
     ]
    },
    {
     "name": "stdout",
     "output_type": "stream",
     "text": [
      "  1.918727 seconds (2.30 M allocations: 1.450 GiB, 56.25% gc time)\n"
     ]
    },
    {
     "name": "stderr",
     "output_type": "stream",
     "text": [
      "┌ Info: Working on Fragility.Robust\n",
      "└ @ Main In[12]:5\n"
     ]
    },
    {
     "name": "stdout",
     "output_type": "stream",
     "text": [
      "  2.090163 seconds (2.30 M allocations: 1.450 GiB, 51.81% gc time)\n"
     ]
    },
    {
     "name": "stderr",
     "output_type": "stream",
     "text": [
      "┌ Info: Working on Motility.Swimmer\n",
      "└ @ Main In[12]:5\n"
     ]
    },
    {
     "name": "stdout",
     "output_type": "stream",
     "text": [
      "  1.811582 seconds (2.30 M allocations: 1.450 GiB, 55.56% gc time)\n"
     ]
    },
    {
     "name": "stderr",
     "output_type": "stream",
     "text": [
      "┌ Info: Working on Motility.Tubicolous\n",
      "└ @ Main In[12]:5\n"
     ]
    },
    {
     "name": "stdout",
     "output_type": "stream",
     "text": [
      "  1.835329 seconds (2.30 M allocations: 1.450 GiB, 55.95% gc time)\n"
     ]
    },
    {
     "name": "stderr",
     "output_type": "stream",
     "text": [
      "┌ Info: Working on Motility.Crawler\n",
      "└ @ Main In[12]:5\n"
     ]
    },
    {
     "name": "stdout",
     "output_type": "stream",
     "text": [
      "  1.843830 seconds (2.30 M allocations: 1.450 GiB, 57.12% gc time)\n"
     ]
    },
    {
     "name": "stderr",
     "output_type": "stream",
     "text": [
      "┌ Info: Working on Motility.Crawler.Swimmer\n",
      "└ @ Main In[12]:5\n"
     ]
    },
    {
     "name": "stdout",
     "output_type": "stream",
     "text": [
      "  1.899490 seconds (2.30 M allocations: 1.450 GiB, 54.12% gc time)\n"
     ]
    },
    {
     "name": "stderr",
     "output_type": "stream",
     "text": [
      "┌ Info: Working on Motility.Tubicolous.Crawler.Swimmer\n",
      "└ @ Main In[12]:5\n"
     ]
    },
    {
     "name": "stdout",
     "output_type": "stream",
     "text": [
      "  1.948548 seconds (2.30 M allocations: 1.450 GiB, 56.75% gc time)\n"
     ]
    },
    {
     "name": "stderr",
     "output_type": "stream",
     "text": [
      "┌ Info: Working on Motility.Sessile\n",
      "└ @ Main In[12]:5\n"
     ]
    },
    {
     "name": "stdout",
     "output_type": "stream",
     "text": [
      "  1.840321 seconds (2.30 M allocations: 1.450 GiB, 56.05% gc time)\n"
     ]
    },
    {
     "name": "stderr",
     "output_type": "stream",
     "text": [
      "┌ Info: Working on Motility.Sessile.Crawler.Swimmer\n",
      "└ @ Main In[12]:5\n"
     ]
    },
    {
     "name": "stdout",
     "output_type": "stream",
     "text": [
      "  1.930383 seconds (2.30 M allocations: 1.450 GiB, 54.80% gc time)\n"
     ]
    },
    {
     "name": "stderr",
     "output_type": "stream",
     "text": [
      "┌ Info: Working on Lifespan..1year\n",
      "└ @ Main In[12]:5\n"
     ]
    },
    {
     "name": "stdout",
     "output_type": "stream",
     "text": [
      "  1.858312 seconds (2.30 M allocations: 1.450 GiB, 57.18% gc time)\n"
     ]
    },
    {
     "name": "stderr",
     "output_type": "stream",
     "text": [
      "┌ Info: Working on Lifespan.1.3years\n",
      "└ @ Main In[12]:5\n"
     ]
    },
    {
     "name": "stdout",
     "output_type": "stream",
     "text": [
      "  1.928369 seconds (2.30 M allocations: 1.450 GiB, 54.47% gc time)\n"
     ]
    },
    {
     "name": "stderr",
     "output_type": "stream",
     "text": [
      "┌ Info: Working on Lifespan.10.20years\n",
      "└ @ Main In[12]:5\n"
     ]
    },
    {
     "name": "stdout",
     "output_type": "stream",
     "text": [
      "  1.869062 seconds (2.30 M allocations: 1.450 GiB, 57.18% gc time)\n"
     ]
    },
    {
     "name": "stderr",
     "output_type": "stream",
     "text": [
      "┌ Info: Working on Lifespan.3.10years\n",
      "└ @ Main In[12]:5\n"
     ]
    },
    {
     "name": "stdout",
     "output_type": "stream",
     "text": [
      "  1.797966 seconds (2.30 M allocations: 1.450 GiB, 56.37% gc time)\n"
     ]
    },
    {
     "name": "stderr",
     "output_type": "stream",
     "text": [
      "┌ Info: Working on Lifespan..20years\n",
      "└ @ Main In[12]:5\n"
     ]
    },
    {
     "name": "stdout",
     "output_type": "stream",
     "text": [
      "  1.784489 seconds (2.30 M allocations: 1.450 GiB, 56.54% gc time)\n"
     ]
    },
    {
     "name": "stderr",
     "output_type": "stream",
     "text": [
      "┌ Info: Working on Maturity..1year\n",
      "└ @ Main In[12]:5\n"
     ]
    },
    {
     "name": "stdout",
     "output_type": "stream",
     "text": [
      "  1.789986 seconds (2.30 M allocations: 1.450 GiB, 56.78% gc time)\n"
     ]
    },
    {
     "name": "stderr",
     "output_type": "stream",
     "text": [
      "┌ Info: Working on Maturity.1.3years\n",
      "└ @ Main In[12]:5\n"
     ]
    },
    {
     "name": "stdout",
     "output_type": "stream",
     "text": [
      "  1.772017 seconds (2.30 M allocations: 1.450 GiB, 56.23% gc time)\n"
     ]
    },
    {
     "name": "stderr",
     "output_type": "stream",
     "text": [
      "┌ Info: Working on Maturity.3.5years\n",
      "└ @ Main In[12]:5\n"
     ]
    },
    {
     "name": "stdout",
     "output_type": "stream",
     "text": [
      "  1.786470 seconds (2.30 M allocations: 1.450 GiB, 55.94% gc time)\n"
     ]
    },
    {
     "name": "stderr",
     "output_type": "stream",
     "text": [
      "┌ Info: Working on Maturity..5years\n",
      "└ @ Main In[12]:5\n"
     ]
    },
    {
     "name": "stdout",
     "output_type": "stream",
     "text": [
      "  1.788518 seconds (2.30 M allocations: 1.450 GiB, 55.85% gc time)\n"
     ]
    },
    {
     "name": "stderr",
     "output_type": "stream",
     "text": [
      "┌ Info: Working on Reproductive.frequency.Seasonal\n",
      "└ @ Main In[12]:5\n"
     ]
    },
    {
     "name": "stdout",
     "output_type": "stream",
     "text": [
      "  2.203055 seconds (2.30 M allocations: 1.450 GiB, 47.10% gc time)\n"
     ]
    },
    {
     "name": "stderr",
     "output_type": "stream",
     "text": [
      "┌ Info: Working on Reproductive.frequency.Continuous\n",
      "└ @ Main In[12]:5\n"
     ]
    },
    {
     "name": "stdout",
     "output_type": "stream",
     "text": [
      "  2.143929 seconds (2.30 M allocations: 1.450 GiB, 52.41% gc time)\n"
     ]
    },
    {
     "name": "stderr",
     "output_type": "stream",
     "text": [
      "┌ Info: Working on Fecundity..100\n",
      "└ @ Main In[12]:5\n"
     ]
    },
    {
     "name": "stdout",
     "output_type": "stream",
     "text": [
      "  1.986764 seconds (2.30 M allocations: 1.450 GiB, 55.71% gc time)\n"
     ]
    },
    {
     "name": "stderr",
     "output_type": "stream",
     "text": [
      "┌ Info: Working on Fecundity.100.1000\n",
      "└ @ Main In[12]:5\n"
     ]
    },
    {
     "name": "stdout",
     "output_type": "stream",
     "text": [
      "  1.834570 seconds (2.30 M allocations: 1.450 GiB, 55.54% gc time)\n"
     ]
    },
    {
     "name": "stderr",
     "output_type": "stream",
     "text": [
      "┌ Info: Working on Fecundity.1000.10000\n",
      "└ @ Main In[12]:5\n"
     ]
    },
    {
     "name": "stdout",
     "output_type": "stream",
     "text": [
      "  1.946988 seconds (2.30 M allocations: 1.450 GiB, 55.92% gc time)\n"
     ]
    },
    {
     "name": "stderr",
     "output_type": "stream",
     "text": [
      "┌ Info: Working on Fecundity.10000.100000\n",
      "└ @ Main In[12]:5\n"
     ]
    },
    {
     "name": "stdout",
     "output_type": "stream",
     "text": [
      "  2.049150 seconds (2.30 M allocations: 1.450 GiB, 56.44% gc time)\n"
     ]
    },
    {
     "name": "stderr",
     "output_type": "stream",
     "text": [
      "┌ Info: Working on Fecundity.100000.1000000\n",
      "└ @ Main In[12]:5\n"
     ]
    },
    {
     "name": "stdout",
     "output_type": "stream",
     "text": [
      "  1.904431 seconds (2.30 M allocations: 1.450 GiB, 57.58% gc time)\n"
     ]
    },
    {
     "name": "stderr",
     "output_type": "stream",
     "text": [
      "┌ Info: Working on Fecundity..1000000\n",
      "└ @ Main In[12]:5\n"
     ]
    },
    {
     "name": "stdout",
     "output_type": "stream",
     "text": [
      "  2.078926 seconds (2.30 M allocations: 1.450 GiB, 49.51% gc time)\n"
     ]
    },
    {
     "name": "stderr",
     "output_type": "stream",
     "text": [
      "┌ Info: Working on Offspring.type.Egg\n",
      "└ @ Main In[12]:5\n"
     ]
    },
    {
     "name": "stdout",
     "output_type": "stream",
     "text": [
      "  1.920067 seconds (2.30 M allocations: 1.450 GiB, 56.48% gc time)\n"
     ]
    },
    {
     "name": "stderr",
     "output_type": "stream",
     "text": [
      "┌ Info: Working on Offspring.type.Larva\n",
      "└ @ Main In[12]:5\n"
     ]
    },
    {
     "name": "stdout",
     "output_type": "stream",
     "text": [
      "  1.899555 seconds (2.30 M allocations: 1.450 GiB, 57.38% gc time)\n"
     ]
    },
    {
     "name": "stderr",
     "output_type": "stream",
     "text": [
      "┌ Info: Working on Offspring.type.Juvenile\n",
      "└ @ Main In[12]:5\n"
     ]
    },
    {
     "name": "stdout",
     "output_type": "stream",
     "text": [
      "  1.880929 seconds (2.30 M allocations: 1.450 GiB, 53.50% gc time)\n"
     ]
    },
    {
     "name": "stderr",
     "output_type": "stream",
     "text": [
      "┌ Info: Working on Offspring.size..100\n",
      "└ @ Main In[12]:5\n"
     ]
    },
    {
     "name": "stdout",
     "output_type": "stream",
     "text": [
      "  1.903660 seconds (2.30 M allocations: 1.450 GiB, 55.74% gc time)\n"
     ]
    },
    {
     "name": "stderr",
     "output_type": "stream",
     "text": [
      "┌ Info: Working on Offspring.size.100.500\n",
      "└ @ Main In[12]:5\n"
     ]
    },
    {
     "name": "stdout",
     "output_type": "stream",
     "text": [
      "  2.183192 seconds (2.30 M allocations: 1.450 GiB, 52.65% gc time)\n"
     ]
    },
    {
     "name": "stderr",
     "output_type": "stream",
     "text": [
      "┌ Info: Working on Offspring.size.500.1500\n",
      "└ @ Main In[12]:5\n"
     ]
    },
    {
     "name": "stdout",
     "output_type": "stream",
     "text": [
      "  2.495117 seconds (2.30 M allocations: 1.450 GiB, 59.83% gc time)\n"
     ]
    },
    {
     "name": "stderr",
     "output_type": "stream",
     "text": [
      "┌ Info: Working on Offspring.size..1500\n",
      "└ @ Main In[12]:5\n"
     ]
    },
    {
     "name": "stdout",
     "output_type": "stream",
     "text": [
      "  4.036690 seconds (2.30 M allocations: 1.450 GiB, 44.07% gc time)\n"
     ]
    },
    {
     "name": "stderr",
     "output_type": "stream",
     "text": [
      "┌ Info: Working on Offspring.protection.None\n",
      "└ @ Main In[12]:5\n"
     ]
    },
    {
     "name": "stdout",
     "output_type": "stream",
     "text": [
      "  3.714643 seconds (2.30 M allocations: 1.450 GiB, 45.76% gc time)\n"
     ]
    },
    {
     "name": "stderr",
     "output_type": "stream",
     "text": [
      "┌ Info: Working on Offspring.protection.Gel\n",
      "└ @ Main In[12]:5\n"
     ]
    },
    {
     "name": "stdout",
     "output_type": "stream",
     "text": [
      "  5.034166 seconds (2.30 M allocations: 1.450 GiB, 46.21% gc time)\n"
     ]
    },
    {
     "name": "stderr",
     "output_type": "stream",
     "text": [
      "┌ Info: Working on Offspring.protection.Capsule\n",
      "└ @ Main In[12]:5\n"
     ]
    },
    {
     "name": "stdout",
     "output_type": "stream",
     "text": [
      "  4.572441 seconds (2.30 M allocations: 1.450 GiB, 42.73% gc time)\n"
     ]
    },
    {
     "name": "stderr",
     "output_type": "stream",
     "text": [
      "┌ Info: Working on Offspring.protection.Burrying\n",
      "└ @ Main In[12]:5\n"
     ]
    },
    {
     "name": "stdout",
     "output_type": "stream",
     "text": [
      "  4.419895 seconds (2.30 M allocations: 1.450 GiB, 34.81% gc time)\n"
     ]
    },
    {
     "name": "stderr",
     "output_type": "stream",
     "text": [
      "┌ Info: Working on Offspring.protection.Brooding\n",
      "└ @ Main In[12]:5\n"
     ]
    },
    {
     "name": "stdout",
     "output_type": "stream",
     "text": [
      "  4.805497 seconds (2.30 M allocations: 1.450 GiB, 38.14% gc time)\n"
     ]
    },
    {
     "name": "stderr",
     "output_type": "stream",
     "text": [
      "┌ Info: Working on Offspring.pelagic.stage.duration.Null\n",
      "└ @ Main In[12]:5\n"
     ]
    },
    {
     "name": "stdout",
     "output_type": "stream",
     "text": [
      "  4.221135 seconds (2.30 M allocations: 1.450 GiB, 39.32% gc time)\n"
     ]
    },
    {
     "name": "stderr",
     "output_type": "stream",
     "text": [
      "┌ Info: Working on Offspring.pelagic.stage.duration.1.15days\n",
      "└ @ Main In[12]:5\n"
     ]
    },
    {
     "name": "stdout",
     "output_type": "stream",
     "text": [
      "  4.672113 seconds (2.30 M allocations: 1.450 GiB, 39.70% gc time)\n"
     ]
    },
    {
     "name": "stderr",
     "output_type": "stream",
     "text": [
      "┌ Info: Working on Offspring.pelagic.stage.duration.15.30days\n",
      "└ @ Main In[12]:5\n"
     ]
    },
    {
     "name": "stdout",
     "output_type": "stream",
     "text": [
      "  5.295217 seconds (2.30 M allocations: 1.450 GiB, 38.82% gc time)\n"
     ]
    },
    {
     "name": "stderr",
     "output_type": "stream",
     "text": [
      "┌ Info: Working on Offspring.pelagic.stage.duration.1.2months\n",
      "└ @ Main In[12]:5\n"
     ]
    },
    {
     "name": "stdout",
     "output_type": "stream",
     "text": [
      "  4.436168 seconds (2.30 M allocations: 1.450 GiB, 41.67% gc time)\n"
     ]
    },
    {
     "name": "stderr",
     "output_type": "stream",
     "text": [
      "┌ Info: Working on Offspring.pelagic.stage.duration.2.6months\n",
      "└ @ Main In[12]:5\n"
     ]
    },
    {
     "name": "stdout",
     "output_type": "stream",
     "text": [
      "  4.845383 seconds (2.30 M allocations: 1.450 GiB, 36.41% gc time)\n"
     ]
    },
    {
     "name": "stderr",
     "output_type": "stream",
     "text": [
      "┌ Info: Working on Offspring.pelagic.stage.duration..6months\n",
      "└ @ Main In[12]:5\n"
     ]
    },
    {
     "name": "stdout",
     "output_type": "stream",
     "text": [
      "  3.412734 seconds (2.30 M allocations: 1.450 GiB, 50.62% gc time)\n"
     ]
    },
    {
     "name": "stderr",
     "output_type": "stream",
     "text": [
      "┌ Info: Working on Trophy.De\n",
      "└ @ Main In[12]:5\n"
     ]
    },
    {
     "name": "stdout",
     "output_type": "stream",
     "text": [
      "  1.854385 seconds (2.30 M allocations: 1.450 GiB, 55.08% gc time)\n"
     ]
    },
    {
     "name": "stderr",
     "output_type": "stream",
     "text": [
      "┌ Info: Working on Trophy.SuDe\n",
      "└ @ Main In[12]:5\n"
     ]
    },
    {
     "name": "stdout",
     "output_type": "stream",
     "text": [
      "  1.888130 seconds (2.30 M allocations: 1.450 GiB, 53.67% gc time)\n"
     ]
    },
    {
     "name": "stderr",
     "output_type": "stream",
     "text": [
      "┌ Info: Working on Trophy.Su\n",
      "└ @ Main In[12]:5\n"
     ]
    },
    {
     "name": "stdout",
     "output_type": "stream",
     "text": [
      "  1.812679 seconds (2.30 M allocations: 1.450 GiB, 55.99% gc time)\n"
     ]
    },
    {
     "name": "stderr",
     "output_type": "stream",
     "text": [
      "┌ Info: Working on Trophy.He\n",
      "└ @ Main In[12]:5\n"
     ]
    },
    {
     "name": "stdout",
     "output_type": "stream",
     "text": [
      "  1.831710 seconds (2.30 M allocations: 1.450 GiB, 56.74% gc time)\n"
     ]
    },
    {
     "name": "stderr",
     "output_type": "stream",
     "text": [
      "┌ Info: Working on Trophy.CaSc\n",
      "└ @ Main In[12]:5\n"
     ]
    },
    {
     "name": "stdout",
     "output_type": "stream",
     "text": [
      "  1.944692 seconds (2.30 M allocations: 1.450 GiB, 56.59% gc time)\n"
     ]
    },
    {
     "name": "stderr",
     "output_type": "stream",
     "text": [
      "┌ Info: Working on Trophy.Om\n",
      "└ @ Main In[12]:5\n"
     ]
    },
    {
     "name": "stdout",
     "output_type": "stream",
     "text": [
      "  1.925756 seconds (2.30 M allocations: 1.450 GiB, 52.44% gc time)\n"
     ]
    },
    {
     "name": "stderr",
     "output_type": "stream",
     "text": [
      "┌ Info: Working on Trophy.Pa\n",
      "└ @ Main In[12]:5\n"
     ]
    },
    {
     "name": "stdout",
     "output_type": "stream",
     "text": [
      "  1.825125 seconds (2.30 M allocations: 1.450 GiB, 55.63% gc time)\n"
     ]
    },
    {
     "name": "stderr",
     "output_type": "stream",
     "text": [
      "┌ Info: Working on Burrowing.depth.0cm\n",
      "└ @ Main In[12]:5\n"
     ]
    },
    {
     "name": "stdout",
     "output_type": "stream",
     "text": [
      "  1.975629 seconds (2.30 M allocations: 1.450 GiB, 55.87% gc time)\n"
     ]
    },
    {
     "name": "stderr",
     "output_type": "stream",
     "text": [
      "┌ Info: Working on Burrowing.depth.0.5cm\n",
      "└ @ Main In[12]:5\n"
     ]
    },
    {
     "name": "stdout",
     "output_type": "stream",
     "text": [
      "  1.847809 seconds (2.30 M allocations: 1.450 GiB, 56.02% gc time)\n"
     ]
    },
    {
     "name": "stderr",
     "output_type": "stream",
     "text": [
      "┌ Info: Working on Burrowing.depth.5.15cm\n",
      "└ @ Main In[12]:5\n"
     ]
    },
    {
     "name": "stdout",
     "output_type": "stream",
     "text": [
      "  1.851872 seconds (2.30 M allocations: 1.450 GiB, 56.53% gc time)\n"
     ]
    },
    {
     "name": "stderr",
     "output_type": "stream",
     "text": [
      "┌ Info: Working on Burrowing.depth..15cm\n",
      "└ @ Main In[12]:5\n"
     ]
    },
    {
     "name": "stdout",
     "output_type": "stream",
     "text": [
      "  1.809327 seconds (2.30 M allocations: 1.450 GiB, 56.19% gc time)\n"
     ]
    }
   ],
   "source": [
    "# Allocate matrix with all the gridded fields\n",
    "trait_all = Array{Float64}(undef, ntraits, length(gridlonBenthos), length(gridlatBenthos));\n",
    "trait_err = Array{Float64}(undef, length(gridlonBenthos), length(gridlatBenthos));\n",
    "for i in 1:ntraits\n",
    "    @info \"Working on $(varlist[i])\" \n",
    "    indextrait = findfirst(header .== varlist[i]).I[2];\n",
    "    trait = Vector{Float64}(data[:,indextrait]) \n",
    "    traits_interp = traits_analysis(obslon, obslat, trait);\n",
    "    if i == 1\n",
    "        @info \"Computing error field\"\n",
    "        trait_err = traits_error(obslon, obslat, trait);\n",
    "    end\n",
    "    trait_all[i,:,:] = traits_interp;\n",
    "end"
   ]
  },
  {
   "cell_type": "markdown",
   "metadata": {},
   "source": [
    "### Write netCDF"
   ]
  },
  {
   "cell_type": "code",
   "execution_count": 15,
   "metadata": {},
   "outputs": [
    {
     "name": "stderr",
     "output_type": "stream",
     "text": [
      "┌ Info: Writing netCDF file ../output/traits/Benthos_Traits_ab.nc\n",
      "└ @ Main In[15]:1\n"
     ]
    }
   ],
   "source": [
    "@info \"Writing netCDF file $(outputfile)\"\n",
    "write_traits_nc(outputfile, gridlonBenthos, gridlatBenthos, \n",
    "                trait_all, trait_err, varlist);"
   ]
  },
  {
   "cell_type": "markdown",
   "metadata": {},
   "source": [
    "## Plots"
   ]
  },
  {
   "cell_type": "code",
   "execution_count": 16,
   "metadata": {
    "collapsed": true
   },
   "outputs": [],
   "source": [
    "for ii = 1:ntraits\n",
    "    make_plot_trait(gridlonBenthos, gridlatBenthos, trait_all[ii,:,:], varlist[ii]; vmin=0)\n",
    "    figname = joinpath(figdirTraits, replace(varlist[ii], \".\" => \"_\"))\n",
    "    PyPlot.savefig(figname, dpi=300, bbox_inches=\"tight\")\n",
    "    PyPlot.close_figs()\n",
    "end"
   ]
  },
  {
   "cell_type": "markdown",
   "metadata": {
    "collapsed": true
   },
   "source": [
    "## Repeat with the other file"
   ]
  },
  {
   "cell_type": "code",
   "execution_count": 17,
   "metadata": {},
   "outputs": [
    {
     "name": "stderr",
     "output_type": "stream",
     "text": [
      "┌ Info: Working on 62 traits\n",
      "└ @ Main In[17]:11\n"
     ]
    },
    {
     "name": "stdout",
     "output_type": "stream",
     "text": [
      "(maximum(rdiag), mean(rdiag)) = (439.414300295079, 33.47717862234115)\n"
     ]
    },
    {
     "name": "stderr",
     "output_type": "stream",
     "text": [
      "┌ Info: Working on Body.length..1cm\n",
      "└ @ Main In[17]:31\n"
     ]
    },
    {
     "name": "stdout",
     "output_type": "stream",
     "text": [
      "  2.210487 seconds (2.30 M allocations: 1.450 GiB, 62.93% gc time)\n"
     ]
    },
    {
     "name": "stderr",
     "output_type": "stream",
     "text": [
      "┌ Info: Computing error field\n",
      "└ @ Main In[17]:36\n",
      "┌ Info: Working on Body.length.1.3cm\n",
      "└ @ Main In[17]:31\n"
     ]
    },
    {
     "name": "stdout",
     "output_type": "stream",
     "text": [
      "  2.002002 seconds (2.30 M allocations: 1.450 GiB, 57.79% gc time)\n"
     ]
    },
    {
     "name": "stderr",
     "output_type": "stream",
     "text": [
      "┌ Info: Working on Body.length.3.10cm\n",
      "└ @ Main In[17]:31\n"
     ]
    },
    {
     "name": "stdout",
     "output_type": "stream",
     "text": [
      "  1.957688 seconds (2.30 M allocations: 1.450 GiB, 57.57% gc time)\n"
     ]
    },
    {
     "name": "stderr",
     "output_type": "stream",
     "text": [
      "┌ Info: Working on Body.length.10.20cm\n",
      "└ @ Main In[17]:31\n"
     ]
    },
    {
     "name": "stdout",
     "output_type": "stream",
     "text": [
      "  1.931009 seconds (2.30 M allocations: 1.450 GiB, 58.39% gc time)\n"
     ]
    },
    {
     "name": "stderr",
     "output_type": "stream",
     "text": [
      "┌ Info: Working on Body.length.20.50cm\n",
      "└ @ Main In[17]:31\n"
     ]
    },
    {
     "name": "stdout",
     "output_type": "stream",
     "text": [
      "  2.021770 seconds (2.30 M allocations: 1.450 GiB, 58.98% gc time)\n"
     ]
    },
    {
     "name": "stderr",
     "output_type": "stream",
     "text": [
      "┌ Info: Working on Body.length..50cm\n",
      "└ @ Main In[17]:31\n"
     ]
    },
    {
     "name": "stdout",
     "output_type": "stream",
     "text": [
      "  2.055061 seconds (2.30 M allocations: 1.450 GiB, 57.49% gc time)\n"
     ]
    },
    {
     "name": "stderr",
     "output_type": "stream",
     "text": [
      "┌ Info: Working on Fragility.Fragile\n",
      "└ @ Main In[17]:31\n"
     ]
    },
    {
     "name": "stdout",
     "output_type": "stream",
     "text": [
      "  1.929420 seconds (2.30 M allocations: 1.450 GiB, 58.57% gc time)\n"
     ]
    },
    {
     "name": "stderr",
     "output_type": "stream",
     "text": [
      "┌ Info: Working on Fragility.Intermediate\n",
      "└ @ Main In[17]:31\n"
     ]
    },
    {
     "name": "stdout",
     "output_type": "stream",
     "text": [
      "  2.098369 seconds (2.30 M allocations: 1.450 GiB, 58.06% gc time)\n"
     ]
    },
    {
     "name": "stderr",
     "output_type": "stream",
     "text": [
      "┌ Info: Working on Fragility.Robust\n",
      "└ @ Main In[17]:31\n"
     ]
    },
    {
     "name": "stdout",
     "output_type": "stream",
     "text": [
      "  2.134956 seconds (2.30 M allocations: 1.450 GiB, 57.32% gc time)\n"
     ]
    },
    {
     "name": "stderr",
     "output_type": "stream",
     "text": [
      "┌ Info: Working on Motility.Swimmer\n",
      "└ @ Main In[17]:31\n"
     ]
    },
    {
     "name": "stdout",
     "output_type": "stream",
     "text": [
      "  2.182033 seconds (2.30 M allocations: 1.450 GiB, 57.63% gc time)\n"
     ]
    },
    {
     "name": "stderr",
     "output_type": "stream",
     "text": [
      "┌ Info: Working on Motility.Tubicolous\n",
      "└ @ Main In[17]:31\n"
     ]
    },
    {
     "name": "stdout",
     "output_type": "stream",
     "text": [
      "  2.173025 seconds (2.30 M allocations: 1.450 GiB, 57.00% gc time)\n"
     ]
    },
    {
     "name": "stderr",
     "output_type": "stream",
     "text": [
      "┌ Info: Working on Motility.Crawler\n",
      "└ @ Main In[17]:31\n"
     ]
    },
    {
     "name": "stdout",
     "output_type": "stream",
     "text": [
      "  2.108748 seconds (2.30 M allocations: 1.450 GiB, 57.16% gc time)\n"
     ]
    },
    {
     "name": "stderr",
     "output_type": "stream",
     "text": [
      "┌ Info: Working on Motility.Crawler.Swimmer\n",
      "└ @ Main In[17]:31\n"
     ]
    },
    {
     "name": "stdout",
     "output_type": "stream",
     "text": [
      "  2.279555 seconds (2.30 M allocations: 1.450 GiB, 58.77% gc time)\n"
     ]
    },
    {
     "name": "stderr",
     "output_type": "stream",
     "text": [
      "┌ Info: Working on Motility.Tubicolous.Crawler.Swimmer\n",
      "└ @ Main In[17]:31\n"
     ]
    },
    {
     "name": "stdout",
     "output_type": "stream",
     "text": [
      "  2.064429 seconds (2.30 M allocations: 1.450 GiB, 59.70% gc time)\n"
     ]
    },
    {
     "name": "stderr",
     "output_type": "stream",
     "text": [
      "┌ Info: Working on Motility.Sessile\n",
      "└ @ Main In[17]:31\n"
     ]
    },
    {
     "name": "stdout",
     "output_type": "stream",
     "text": [
      "  1.974701 seconds (2.30 M allocations: 1.450 GiB, 57.84% gc time)\n"
     ]
    },
    {
     "name": "stderr",
     "output_type": "stream",
     "text": [
      "┌ Info: Working on Motility.Sessile.Crawler.Swimmer\n",
      "└ @ Main In[17]:31\n"
     ]
    },
    {
     "name": "stdout",
     "output_type": "stream",
     "text": [
      "  1.957948 seconds (2.30 M allocations: 1.450 GiB, 58.13% gc time)\n"
     ]
    },
    {
     "name": "stderr",
     "output_type": "stream",
     "text": [
      "┌ Info: Working on Lifespan..1year\n",
      "└ @ Main In[17]:31\n"
     ]
    },
    {
     "name": "stdout",
     "output_type": "stream",
     "text": [
      "  1.971841 seconds (2.30 M allocations: 1.450 GiB, 58.27% gc time)\n"
     ]
    },
    {
     "name": "stderr",
     "output_type": "stream",
     "text": [
      "┌ Info: Working on Lifespan.1.3years\n",
      "└ @ Main In[17]:31\n"
     ]
    },
    {
     "name": "stdout",
     "output_type": "stream",
     "text": [
      "  2.115939 seconds (2.30 M allocations: 1.450 GiB, 60.17% gc time)\n"
     ]
    },
    {
     "name": "stderr",
     "output_type": "stream",
     "text": [
      "┌ Info: Working on Lifespan.10.20years\n",
      "└ @ Main In[17]:31\n"
     ]
    },
    {
     "name": "stdout",
     "output_type": "stream",
     "text": [
      "  2.018964 seconds (2.30 M allocations: 1.450 GiB, 59.39% gc time)\n"
     ]
    },
    {
     "name": "stderr",
     "output_type": "stream",
     "text": [
      "┌ Info: Working on Lifespan.3.10years\n",
      "└ @ Main In[17]:31\n"
     ]
    },
    {
     "name": "stdout",
     "output_type": "stream",
     "text": [
      "  2.058753 seconds (2.30 M allocations: 1.450 GiB, 57.42% gc time)\n"
     ]
    },
    {
     "name": "stderr",
     "output_type": "stream",
     "text": [
      "┌ Info: Working on Lifespan..20years\n",
      "└ @ Main In[17]:31\n"
     ]
    },
    {
     "name": "stdout",
     "output_type": "stream",
     "text": [
      "  2.187824 seconds (2.30 M allocations: 1.450 GiB, 60.45% gc time)\n"
     ]
    },
    {
     "name": "stderr",
     "output_type": "stream",
     "text": [
      "┌ Info: Working on Maturity..1year\n",
      "└ @ Main In[17]:31\n"
     ]
    },
    {
     "name": "stdout",
     "output_type": "stream",
     "text": [
      "  2.096863 seconds (2.30 M allocations: 1.450 GiB, 57.32% gc time)\n"
     ]
    },
    {
     "name": "stderr",
     "output_type": "stream",
     "text": [
      "┌ Info: Working on Maturity.1.3years\n",
      "└ @ Main In[17]:31\n"
     ]
    },
    {
     "name": "stdout",
     "output_type": "stream",
     "text": [
      "  2.248671 seconds (2.30 M allocations: 1.450 GiB, 59.37% gc time)\n"
     ]
    },
    {
     "name": "stderr",
     "output_type": "stream",
     "text": [
      "┌ Info: Working on Maturity.3.5years\n",
      "└ @ Main In[17]:31\n"
     ]
    },
    {
     "name": "stdout",
     "output_type": "stream",
     "text": [
      "  2.247479 seconds (2.30 M allocations: 1.450 GiB, 61.04% gc time)\n"
     ]
    },
    {
     "name": "stderr",
     "output_type": "stream",
     "text": [
      "┌ Info: Working on Maturity..5years\n",
      "└ @ Main In[17]:31\n"
     ]
    },
    {
     "name": "stdout",
     "output_type": "stream",
     "text": [
      "  2.118650 seconds (2.30 M allocations: 1.450 GiB, 58.41% gc time)\n"
     ]
    },
    {
     "name": "stderr",
     "output_type": "stream",
     "text": [
      "┌ Info: Working on Reproductive.frequency.Seasonal\n",
      "└ @ Main In[17]:31\n"
     ]
    },
    {
     "name": "stdout",
     "output_type": "stream",
     "text": [
      "  2.263245 seconds (2.30 M allocations: 1.450 GiB, 56.13% gc time)\n"
     ]
    },
    {
     "name": "stderr",
     "output_type": "stream",
     "text": [
      "┌ Info: Working on Reproductive.frequency.Continuous\n",
      "└ @ Main In[17]:31\n"
     ]
    },
    {
     "name": "stdout",
     "output_type": "stream",
     "text": [
      "  2.138857 seconds (2.30 M allocations: 1.450 GiB, 58.48% gc time)\n"
     ]
    },
    {
     "name": "stderr",
     "output_type": "stream",
     "text": [
      "┌ Info: Working on Fecundity..100\n",
      "└ @ Main In[17]:31\n"
     ]
    },
    {
     "name": "stdout",
     "output_type": "stream",
     "text": [
      "  2.120347 seconds (2.30 M allocations: 1.450 GiB, 59.27% gc time)\n"
     ]
    },
    {
     "name": "stderr",
     "output_type": "stream",
     "text": [
      "┌ Info: Working on Fecundity.100.1000\n",
      "└ @ Main In[17]:31\n"
     ]
    },
    {
     "name": "stdout",
     "output_type": "stream",
     "text": [
      "  1.961183 seconds (2.30 M allocations: 1.450 GiB, 58.64% gc time)\n"
     ]
    },
    {
     "name": "stderr",
     "output_type": "stream",
     "text": [
      "┌ Info: Working on Fecundity.1000.10000\n",
      "└ @ Main In[17]:31\n"
     ]
    },
    {
     "name": "stdout",
     "output_type": "stream",
     "text": [
      "  1.945140 seconds (2.30 M allocations: 1.450 GiB, 58.82% gc time)\n"
     ]
    },
    {
     "name": "stderr",
     "output_type": "stream",
     "text": [
      "┌ Info: Working on Fecundity.10000.100000\n",
      "└ @ Main In[17]:31\n"
     ]
    },
    {
     "name": "stdout",
     "output_type": "stream",
     "text": [
      "  1.924751 seconds (2.30 M allocations: 1.450 GiB, 57.44% gc time)\n"
     ]
    },
    {
     "name": "stderr",
     "output_type": "stream",
     "text": [
      "┌ Info: Working on Fecundity.100000.1000000\n",
      "└ @ Main In[17]:31\n"
     ]
    },
    {
     "name": "stdout",
     "output_type": "stream",
     "text": [
      "  2.020968 seconds (2.30 M allocations: 1.450 GiB, 56.68% gc time)\n"
     ]
    },
    {
     "name": "stderr",
     "output_type": "stream",
     "text": [
      "┌ Info: Working on Fecundity..1000000\n",
      "└ @ Main In[17]:31\n"
     ]
    },
    {
     "name": "stdout",
     "output_type": "stream",
     "text": [
      "  2.032037 seconds (2.30 M allocations: 1.450 GiB, 58.21% gc time)\n"
     ]
    },
    {
     "name": "stderr",
     "output_type": "stream",
     "text": [
      "┌ Info: Working on Offspring.type.Egg\n",
      "└ @ Main In[17]:31\n"
     ]
    },
    {
     "name": "stdout",
     "output_type": "stream",
     "text": [
      "  1.966919 seconds (2.30 M allocations: 1.450 GiB, 58.70% gc time)\n"
     ]
    },
    {
     "name": "stderr",
     "output_type": "stream",
     "text": [
      "┌ Info: Working on Offspring.type.Larva\n",
      "└ @ Main In[17]:31\n"
     ]
    },
    {
     "name": "stdout",
     "output_type": "stream",
     "text": [
      "  1.973495 seconds (2.30 M allocations: 1.450 GiB, 57.90% gc time)\n"
     ]
    },
    {
     "name": "stderr",
     "output_type": "stream",
     "text": [
      "┌ Info: Working on Offspring.type.Juvenile\n",
      "└ @ Main In[17]:31\n"
     ]
    },
    {
     "name": "stdout",
     "output_type": "stream",
     "text": [
      "  1.939515 seconds (2.30 M allocations: 1.450 GiB, 58.34% gc time)\n"
     ]
    },
    {
     "name": "stderr",
     "output_type": "stream",
     "text": [
      "┌ Info: Working on Offspring.size..100\n",
      "└ @ Main In[17]:31\n"
     ]
    },
    {
     "name": "stdout",
     "output_type": "stream",
     "text": [
      "  1.958670 seconds (2.30 M allocations: 1.450 GiB, 57.98% gc time)\n"
     ]
    },
    {
     "name": "stderr",
     "output_type": "stream",
     "text": [
      "┌ Info: Working on Offspring.size.100.500\n",
      "└ @ Main In[17]:31\n"
     ]
    },
    {
     "name": "stdout",
     "output_type": "stream",
     "text": [
      "  1.949847 seconds (2.30 M allocations: 1.450 GiB, 57.91% gc time)\n"
     ]
    },
    {
     "name": "stderr",
     "output_type": "stream",
     "text": [
      "┌ Info: Working on Offspring.size.500.1500\n",
      "└ @ Main In[17]:31\n"
     ]
    },
    {
     "name": "stdout",
     "output_type": "stream",
     "text": [
      "  1.974434 seconds (2.30 M allocations: 1.450 GiB, 57.63% gc time)\n"
     ]
    },
    {
     "name": "stderr",
     "output_type": "stream",
     "text": [
      "┌ Info: Working on Offspring.size..1500\n",
      "└ @ Main In[17]:31\n"
     ]
    },
    {
     "name": "stdout",
     "output_type": "stream",
     "text": [
      "  1.963950 seconds (2.30 M allocations: 1.450 GiB, 58.00% gc time)\n"
     ]
    },
    {
     "name": "stderr",
     "output_type": "stream",
     "text": [
      "┌ Info: Working on Offspring.protection.None\n",
      "└ @ Main In[17]:31\n"
     ]
    },
    {
     "name": "stdout",
     "output_type": "stream",
     "text": [
      "  1.915180 seconds (2.30 M allocations: 1.450 GiB, 58.44% gc time)\n"
     ]
    },
    {
     "name": "stderr",
     "output_type": "stream",
     "text": [
      "┌ Info: Working on Offspring.protection.Gel\n",
      "└ @ Main In[17]:31\n"
     ]
    },
    {
     "name": "stdout",
     "output_type": "stream",
     "text": [
      "  1.922619 seconds (2.30 M allocations: 1.450 GiB, 58.06% gc time)\n"
     ]
    },
    {
     "name": "stderr",
     "output_type": "stream",
     "text": [
      "┌ Info: Working on Offspring.protection.Capsule\n",
      "└ @ Main In[17]:31\n"
     ]
    },
    {
     "name": "stdout",
     "output_type": "stream",
     "text": [
      "  1.935373 seconds (2.30 M allocations: 1.450 GiB, 57.84% gc time)\n"
     ]
    },
    {
     "name": "stderr",
     "output_type": "stream",
     "text": [
      "┌ Info: Working on Offspring.protection.Burrying\n",
      "└ @ Main In[17]:31\n"
     ]
    },
    {
     "name": "stdout",
     "output_type": "stream",
     "text": [
      "  1.948445 seconds (2.30 M allocations: 1.450 GiB, 58.26% gc time)\n"
     ]
    },
    {
     "name": "stderr",
     "output_type": "stream",
     "text": [
      "┌ Info: Working on Offspring.protection.Brooding\n",
      "└ @ Main In[17]:31\n"
     ]
    },
    {
     "name": "stdout",
     "output_type": "stream",
     "text": [
      "  1.940597 seconds (2.30 M allocations: 1.450 GiB, 58.27% gc time)\n"
     ]
    },
    {
     "name": "stderr",
     "output_type": "stream",
     "text": [
      "┌ Info: Working on Offspring.pelagic.stage.duration.Null\n",
      "└ @ Main In[17]:31\n"
     ]
    },
    {
     "name": "stdout",
     "output_type": "stream",
     "text": [
      "  1.937900 seconds (2.30 M allocations: 1.450 GiB, 58.01% gc time)\n"
     ]
    },
    {
     "name": "stderr",
     "output_type": "stream",
     "text": [
      "┌ Info: Working on Offspring.pelagic.stage.duration.1.15days\n",
      "└ @ Main In[17]:31\n"
     ]
    },
    {
     "name": "stdout",
     "output_type": "stream",
     "text": [
      "  1.919005 seconds (2.30 M allocations: 1.450 GiB, 58.02% gc time)\n"
     ]
    },
    {
     "name": "stderr",
     "output_type": "stream",
     "text": [
      "┌ Info: Working on Offspring.pelagic.stage.duration.15.30days\n",
      "└ @ Main In[17]:31\n"
     ]
    },
    {
     "name": "stdout",
     "output_type": "stream",
     "text": [
      "  1.964352 seconds (2.30 M allocations: 1.450 GiB, 58.66% gc time)\n"
     ]
    },
    {
     "name": "stderr",
     "output_type": "stream",
     "text": [
      "┌ Info: Working on Offspring.pelagic.stage.duration.1.2months\n",
      "└ @ Main In[17]:31\n"
     ]
    },
    {
     "name": "stdout",
     "output_type": "stream",
     "text": [
      "  1.929334 seconds (2.30 M allocations: 1.450 GiB, 58.56% gc time)\n"
     ]
    },
    {
     "name": "stderr",
     "output_type": "stream",
     "text": [
      "┌ Info: Working on Offspring.pelagic.stage.duration.2.6months\n",
      "└ @ Main In[17]:31\n"
     ]
    },
    {
     "name": "stdout",
     "output_type": "stream",
     "text": [
      "  1.913572 seconds (2.30 M allocations: 1.450 GiB, 58.19% gc time)\n"
     ]
    },
    {
     "name": "stderr",
     "output_type": "stream",
     "text": [
      "┌ Info: Working on Offspring.pelagic.stage.duration..6months\n",
      "└ @ Main In[17]:31\n"
     ]
    },
    {
     "name": "stdout",
     "output_type": "stream",
     "text": [
      "  1.931437 seconds (2.30 M allocations: 1.450 GiB, 58.24% gc time)\n"
     ]
    },
    {
     "name": "stderr",
     "output_type": "stream",
     "text": [
      "┌ Info: Working on Trophy.De\n",
      "└ @ Main In[17]:31\n"
     ]
    },
    {
     "name": "stdout",
     "output_type": "stream",
     "text": [
      "  1.946517 seconds (2.30 M allocations: 1.450 GiB, 58.78% gc time)\n"
     ]
    },
    {
     "name": "stderr",
     "output_type": "stream",
     "text": [
      "┌ Info: Working on Trophy.SuDe\n",
      "└ @ Main In[17]:31\n"
     ]
    },
    {
     "name": "stdout",
     "output_type": "stream",
     "text": [
      "  1.944928 seconds (2.30 M allocations: 1.450 GiB, 58.46% gc time)\n"
     ]
    },
    {
     "name": "stderr",
     "output_type": "stream",
     "text": [
      "┌ Info: Working on Trophy.Su\n",
      "└ @ Main In[17]:31\n"
     ]
    },
    {
     "name": "stdout",
     "output_type": "stream",
     "text": [
      "  1.920058 seconds (2.30 M allocations: 1.450 GiB, 57.78% gc time)\n"
     ]
    },
    {
     "name": "stderr",
     "output_type": "stream",
     "text": [
      "┌ Info: Working on Trophy.He\n",
      "└ @ Main In[17]:31\n"
     ]
    },
    {
     "name": "stdout",
     "output_type": "stream",
     "text": [
      "  1.946050 seconds (2.30 M allocations: 1.450 GiB, 58.59% gc time)\n"
     ]
    },
    {
     "name": "stderr",
     "output_type": "stream",
     "text": [
      "┌ Info: Working on Trophy.CaSc\n",
      "└ @ Main In[17]:31\n"
     ]
    },
    {
     "name": "stdout",
     "output_type": "stream",
     "text": [
      "  1.914152 seconds (2.30 M allocations: 1.450 GiB, 58.26% gc time)\n"
     ]
    },
    {
     "name": "stderr",
     "output_type": "stream",
     "text": [
      "┌ Info: Working on Trophy.Om\n",
      "└ @ Main In[17]:31\n"
     ]
    },
    {
     "name": "stdout",
     "output_type": "stream",
     "text": [
      "  1.910650 seconds (2.30 M allocations: 1.450 GiB, 58.24% gc time)\n"
     ]
    },
    {
     "name": "stderr",
     "output_type": "stream",
     "text": [
      "┌ Info: Working on Trophy.Pa\n",
      "└ @ Main In[17]:31\n"
     ]
    },
    {
     "name": "stdout",
     "output_type": "stream",
     "text": [
      "  1.940495 seconds (2.30 M allocations: 1.450 GiB, 57.96% gc time)\n"
     ]
    },
    {
     "name": "stderr",
     "output_type": "stream",
     "text": [
      "┌ Info: Working on Burrowing.depth.0cm\n",
      "└ @ Main In[17]:31\n"
     ]
    },
    {
     "name": "stdout",
     "output_type": "stream",
     "text": [
      "  1.920805 seconds (2.30 M allocations: 1.450 GiB, 57.95% gc time)\n"
     ]
    },
    {
     "name": "stderr",
     "output_type": "stream",
     "text": [
      "┌ Info: Working on Burrowing.depth.0.5cm\n",
      "└ @ Main In[17]:31\n"
     ]
    },
    {
     "name": "stdout",
     "output_type": "stream",
     "text": [
      "  1.900560 seconds (2.30 M allocations: 1.450 GiB, 58.29% gc time)\n"
     ]
    },
    {
     "name": "stderr",
     "output_type": "stream",
     "text": [
      "┌ Info: Working on Burrowing.depth.5.15cm\n",
      "└ @ Main In[17]:31\n"
     ]
    },
    {
     "name": "stdout",
     "output_type": "stream",
     "text": [
      "  1.933883 seconds (2.30 M allocations: 1.450 GiB, 58.66% gc time)\n"
     ]
    },
    {
     "name": "stderr",
     "output_type": "stream",
     "text": [
      "┌ Info: Working on Burrowing.depth..15cm\n",
      "└ @ Main In[17]:31\n"
     ]
    },
    {
     "name": "stdout",
     "output_type": "stream",
     "text": [
      "  1.952531 seconds (2.30 M allocations: 1.450 GiB, 57.38% gc time)\n"
     ]
    }
   ],
   "source": [
    "datafile = \"/home/ctroupin/tmp/Emodnet-Bio/Traits/Benthos_Traits_tx.csv\"\n",
    "outputfile = joinpath(outputdirTraits, replace(basename(datafile), \".csv\" => \".nc\"))\n",
    "@info \"Output file: $(outputfile)\"\n",
    "\n",
    "if isfile(datafile)\n",
    "    data,header = readdlm(datafile,',',header = true);\n",
    "else\n",
    "    @warn \"Data file doesn't exist\"\n",
    "end\n",
    "varlist = header[5:end];\n",
    "ntraits = length(varlist);\n",
    "@info \"Working on $(ntraits) traits\"\n",
    "\n",
    "indexlon = findfirst(header .== \"x\").I[2];\n",
    "indexlat = findfirst(header .== \"y\").I[2];\n",
    "obslon = Vector{Float64}(data[:,indexlon]);\n",
    "obslat = Vector{Float64}(data[:,indexlat]);\n",
    "\n",
    "# Correlation length\n",
    "len = 2.;\n",
    "# Observational error variance normalized by the background error variance\n",
    "epsilon2 = 5.;\n",
    "\n",
    "rdiag=1.0./DIVAnd.weight_RtimesOne((obslon, obslat),(0.03,0.03))\n",
    "@show maximum(rdiag),mean(rdiag);\n",
    "epsilon2 = epsilon2*rdiag;\n",
    "\n",
    "# Allocate matrix with all the gridded fields\n",
    "trait_tx_all = Array{Float64}(undef, ntraits, length(gridlonBenthos), length(gridlatBenthos));\n",
    "trait_tx_err = Array{Float64}(undef, length(gridlonBenthos), length(gridlatBenthos));\n",
    "for i in 1:ntraits\n",
    "    @info \"Working on $(varlist[i])\" \n",
    "    indextrait = findfirst(header .== varlist[i]).I[2];\n",
    "    trait = Vector{Float64}(data[:,indextrait]) \n",
    "    traits_interp = traits_analysis(obslon, obslat, trait);\n",
    "    if i == 1\n",
    "        @info \"Computing error field\"\n",
    "        trait_tx_err = traits_error(obslon, obslat, trait);\n",
    "    end\n",
    "    trait_tx_all[i,:,:] = traits_interp;\n",
    "end"
   ]
  },
  {
   "cell_type": "code",
   "execution_count": 18,
   "metadata": {
    "collapsed": true
   },
   "outputs": [],
   "source": [
    "write_traits_nc(outputfile, gridlonBenthos, gridlatBenthos, \n",
    "                trait_tx_all, trait_tx_err, varlist);"
   ]
  },
  {
   "cell_type": "markdown",
   "metadata": {},
   "source": [
    "## Fish traits"
   ]
  },
  {
   "cell_type": "code",
   "execution_count": 25,
   "metadata": {},
   "outputs": [
    {
     "name": "stderr",
     "output_type": "stream",
     "text": [
      "┌ Info: Output file: ../output/traits/Fish_Traits.nc\n",
      "└ @ Main In[25]:3\n"
     ]
    }
   ],
   "source": [
    "datafile = \"/home/ctroupin/tmp/Emodnet-Bio/Traits/Fish_Traits.csv\"\n",
    "outputfile = joinpath(outputdirTraits, replace(basename(datafile), \".csv\" => \".nc\"))\n",
    "@info \"Output file: $(outputfile)\""
   ]
  },
  {
   "cell_type": "code",
   "execution_count": 19,
   "metadata": {},
   "outputs": [
    {
     "name": "stderr",
     "output_type": "stream",
     "text": [
      "┌ Info: Output file: ../output/fish/Fish_Traits.nc\n",
      "└ @ Main In[19]:3\n",
      "┌ Info: Working on 36 traits\n",
      "└ @ Main In[19]:12\n",
      "┌ Info: (391, 261)\n",
      "└ @ Main In[19]:33\n"
     ]
    },
    {
     "name": "stdout",
     "output_type": "stream",
     "text": [
      "(maximum(rdiag), mean(rdiag)) = (34.37624664581306, 7.778784558619619)\n"
     ]
    },
    {
     "name": "stderr",
     "output_type": "stream",
     "text": [
      "┌ Info: Working on Size.10.20cm\n",
      "└ @ Main In[19]:52\n"
     ]
    },
    {
     "name": "stdout",
     "output_type": "stream",
     "text": [
      "  1.002369 seconds (1.72 M allocations: 998.738 MiB, 46.69% gc time)\n"
     ]
    },
    {
     "name": "stderr",
     "output_type": "stream",
     "text": [
      "┌ Info: Computing error field\n",
      "└ @ Main In[19]:57\n",
      "┌ Info: Working on Size.20.50cm\n",
      "└ @ Main In[19]:52\n"
     ]
    },
    {
     "name": "stdout",
     "output_type": "stream",
     "text": [
      "  1.011944 seconds (1.72 M allocations: 998.738 MiB, 45.54% gc time)\n"
     ]
    },
    {
     "name": "stderr",
     "output_type": "stream",
     "text": [
      "┌ Info: Working on Size.50.100cm\n",
      "└ @ Main In[19]:52\n"
     ]
    },
    {
     "name": "stdout",
     "output_type": "stream",
     "text": [
      "  1.056733 seconds (1.72 M allocations: 998.738 MiB, 45.39% gc time)\n"
     ]
    },
    {
     "name": "stderr",
     "output_type": "stream",
     "text": [
      "┌ Info: Working on Size.100.200cm\n",
      "└ @ Main In[19]:52\n"
     ]
    },
    {
     "name": "stdout",
     "output_type": "stream",
     "text": [
      "  1.097789 seconds (1.72 M allocations: 998.738 MiB, 46.12% gc time)\n"
     ]
    },
    {
     "name": "stderr",
     "output_type": "stream",
     "text": [
      "┌ Info: Working on Size..200cm\n",
      "└ @ Main In[19]:52\n"
     ]
    },
    {
     "name": "stdout",
     "output_type": "stream",
     "text": [
      "  1.073869 seconds (1.72 M allocations: 998.738 MiB, 47.43% gc time)\n"
     ]
    },
    {
     "name": "stderr",
     "output_type": "stream",
     "text": [
      "┌ Info: Working on Lifespan..5years\n",
      "└ @ Main In[19]:52\n"
     ]
    },
    {
     "name": "stdout",
     "output_type": "stream",
     "text": [
      "  1.029280 seconds (1.72 M allocations: 998.738 MiB, 45.74% gc time)\n"
     ]
    },
    {
     "name": "stderr",
     "output_type": "stream",
     "text": [
      "┌ Info: Working on Lifespan.5.10years\n",
      "└ @ Main In[19]:52\n"
     ]
    },
    {
     "name": "stdout",
     "output_type": "stream",
     "text": [
      "  1.018855 seconds (1.72 M allocations: 998.738 MiB, 45.93% gc time)\n"
     ]
    },
    {
     "name": "stderr",
     "output_type": "stream",
     "text": [
      "┌ Info: Working on Lifespan.10.15years\n",
      "└ @ Main In[19]:52\n"
     ]
    },
    {
     "name": "stdout",
     "output_type": "stream",
     "text": [
      "  1.125334 seconds (1.72 M allocations: 998.738 MiB, 41.39% gc time)\n"
     ]
    },
    {
     "name": "stderr",
     "output_type": "stream",
     "text": [
      "┌ Info: Working on Lifespan.15.20years\n",
      "└ @ Main In[19]:52\n"
     ]
    },
    {
     "name": "stdout",
     "output_type": "stream",
     "text": [
      "  1.031946 seconds (1.72 M allocations: 998.738 MiB, 45.55% gc time)\n"
     ]
    },
    {
     "name": "stderr",
     "output_type": "stream",
     "text": [
      "┌ Info: Working on Lifespan..20years\n",
      "└ @ Main In[19]:52\n"
     ]
    },
    {
     "name": "stdout",
     "output_type": "stream",
     "text": [
      "  1.151136 seconds (1.72 M allocations: 998.738 MiB, 43.18% gc time)\n"
     ]
    },
    {
     "name": "stderr",
     "output_type": "stream",
     "text": [
      "┌ Info: Working on Maturity..5years\n",
      "└ @ Main In[19]:52\n"
     ]
    },
    {
     "name": "stdout",
     "output_type": "stream",
     "text": [
      "  1.071138 seconds (1.72 M allocations: 998.738 MiB, 47.37% gc time)\n"
     ]
    },
    {
     "name": "stderr",
     "output_type": "stream",
     "text": [
      "┌ Info: Working on Maturity.5.10years\n",
      "└ @ Main In[19]:52\n"
     ]
    },
    {
     "name": "stdout",
     "output_type": "stream",
     "text": [
      "  1.133482 seconds (1.72 M allocations: 998.738 MiB, 47.48% gc time)\n"
     ]
    },
    {
     "name": "stderr",
     "output_type": "stream",
     "text": [
      "┌ Info: Working on Maturity.10.15years\n",
      "└ @ Main In[19]:52\n"
     ]
    },
    {
     "name": "stdout",
     "output_type": "stream",
     "text": [
      "  1.047433 seconds (1.72 M allocations: 998.738 MiB, 45.44% gc time)\n"
     ]
    },
    {
     "name": "stderr",
     "output_type": "stream",
     "text": [
      "┌ Info: Working on Maturity.15.20years\n",
      "└ @ Main In[19]:52\n"
     ]
    },
    {
     "name": "stdout",
     "output_type": "stream",
     "text": [
      "  1.072286 seconds (1.72 M allocations: 998.738 MiB, 47.49% gc time)\n"
     ]
    },
    {
     "name": "stderr",
     "output_type": "stream",
     "text": [
      "┌ Info: Working on Maturity..20years\n",
      "└ @ Main In[19]:52\n"
     ]
    },
    {
     "name": "stdout",
     "output_type": "stream",
     "text": [
      "  1.035236 seconds (1.72 M allocations: 998.738 MiB, 46.29% gc time)\n"
     ]
    },
    {
     "name": "stderr",
     "output_type": "stream",
     "text": [
      "┌ Info: Working on Fecundity..100\n",
      "└ @ Main In[19]:52\n"
     ]
    },
    {
     "name": "stdout",
     "output_type": "stream",
     "text": [
      "  1.017467 seconds (1.72 M allocations: 998.738 MiB, 45.95% gc time)\n"
     ]
    },
    {
     "name": "stderr",
     "output_type": "stream",
     "text": [
      "┌ Info: Working on Fecundity.100.1000\n",
      "└ @ Main In[19]:52\n"
     ]
    },
    {
     "name": "stdout",
     "output_type": "stream",
     "text": [
      "  1.011237 seconds (1.72 M allocations: 998.738 MiB, 45.93% gc time)\n"
     ]
    },
    {
     "name": "stderr",
     "output_type": "stream",
     "text": [
      "┌ Info: Working on Fecundity.1000.10000\n",
      "└ @ Main In[19]:52\n"
     ]
    },
    {
     "name": "stdout",
     "output_type": "stream",
     "text": [
      "  1.014024 seconds (1.72 M allocations: 998.738 MiB, 46.00% gc time)\n"
     ]
    },
    {
     "name": "stderr",
     "output_type": "stream",
     "text": [
      "┌ Info: Working on Fecundity.10000.100000\n",
      "└ @ Main In[19]:52\n"
     ]
    },
    {
     "name": "stdout",
     "output_type": "stream",
     "text": [
      "  1.074207 seconds (1.72 M allocations: 998.738 MiB, 46.28% gc time)\n"
     ]
    },
    {
     "name": "stderr",
     "output_type": "stream",
     "text": [
      "┌ Info: Working on Fecundity.100000.1000000\n",
      "└ @ Main In[19]:52\n"
     ]
    },
    {
     "name": "stdout",
     "output_type": "stream",
     "text": [
      "  1.070870 seconds (1.72 M allocations: 998.738 MiB, 46.66% gc time)\n"
     ]
    },
    {
     "name": "stderr",
     "output_type": "stream",
     "text": [
      "┌ Info: Working on Fecundity..1000000\n",
      "└ @ Main In[19]:52\n"
     ]
    },
    {
     "name": "stdout",
     "output_type": "stream",
     "text": [
      "  1.089109 seconds (1.72 M allocations: 998.738 MiB, 43.22% gc time)\n"
     ]
    },
    {
     "name": "stderr",
     "output_type": "stream",
     "text": [
      "┌ Info: Working on Offspring.type.Pelagic.egg\n",
      "└ @ Main In[19]:52\n"
     ]
    },
    {
     "name": "stdout",
     "output_type": "stream",
     "text": [
      "  1.030996 seconds (1.72 M allocations: 998.738 MiB, 45.65% gc time)\n"
     ]
    },
    {
     "name": "stderr",
     "output_type": "stream",
     "text": [
      "┌ Info: Working on Offspring.type.Demersal.egg\n",
      "└ @ Main In[19]:52\n"
     ]
    },
    {
     "name": "stdout",
     "output_type": "stream",
     "text": [
      "  1.042251 seconds (1.72 M allocations: 998.738 MiB, 45.15% gc time)\n"
     ]
    },
    {
     "name": "stderr",
     "output_type": "stream",
     "text": [
      "┌ Info: Working on Offspring.type.Juvenile\n",
      "└ @ Main In[19]:52\n"
     ]
    },
    {
     "name": "stdout",
     "output_type": "stream",
     "text": [
      "  1.010310 seconds (1.72 M allocations: 998.738 MiB, 45.69% gc time)\n"
     ]
    },
    {
     "name": "stderr",
     "output_type": "stream",
     "text": [
      "┌ Info: Working on Offspring.size..1mm\n",
      "└ @ Main In[19]:52\n"
     ]
    },
    {
     "name": "stdout",
     "output_type": "stream",
     "text": [
      "  1.007125 seconds (1.72 M allocations: 998.738 MiB, 45.84% gc time)\n"
     ]
    },
    {
     "name": "stderr",
     "output_type": "stream",
     "text": [
      "┌ Info: Working on Offspring.size.1.2mm\n",
      "└ @ Main In[19]:52\n"
     ]
    },
    {
     "name": "stdout",
     "output_type": "stream",
     "text": [
      "  1.073611 seconds (1.72 M allocations: 998.738 MiB, 47.17% gc time)\n"
     ]
    },
    {
     "name": "stderr",
     "output_type": "stream",
     "text": [
      "┌ Info: Working on Offspring.size.2.3mm\n",
      "└ @ Main In[19]:52\n"
     ]
    },
    {
     "name": "stdout",
     "output_type": "stream",
     "text": [
      "  1.025216 seconds (1.72 M allocations: 998.738 MiB, 46.09% gc time)\n"
     ]
    },
    {
     "name": "stderr",
     "output_type": "stream",
     "text": [
      "┌ Info: Working on Offspring.size..3mm\n",
      "└ @ Main In[19]:52\n"
     ]
    },
    {
     "name": "stdout",
     "output_type": "stream",
     "text": [
      "  1.080443 seconds (1.72 M allocations: 998.738 MiB, 43.16% gc time)\n"
     ]
    },
    {
     "name": "stderr",
     "output_type": "stream",
     "text": [
      "┌ Info: Working on Trophic.type.Zoobenth\n",
      "└ @ Main In[19]:52\n"
     ]
    },
    {
     "name": "stdout",
     "output_type": "stream",
     "text": [
      "  1.011152 seconds (1.72 M allocations: 998.738 MiB, 46.10% gc time)\n"
     ]
    },
    {
     "name": "stderr",
     "output_type": "stream",
     "text": [
      "┌ Info: Working on Trophic.type.ZoobenthNectiv\n",
      "└ @ Main In[19]:52\n"
     ]
    },
    {
     "name": "stdout",
     "output_type": "stream",
     "text": [
      "  1.007070 seconds (1.72 M allocations: 998.738 MiB, 45.89% gc time)\n"
     ]
    },
    {
     "name": "stderr",
     "output_type": "stream",
     "text": [
      "┌ Info: Working on Trophic.type.Zooplankt\n",
      "└ @ Main In[19]:52\n"
     ]
    },
    {
     "name": "stdout",
     "output_type": "stream",
     "text": [
      "  1.007321 seconds (1.72 M allocations: 998.738 MiB, 45.93% gc time)\n"
     ]
    },
    {
     "name": "stderr",
     "output_type": "stream",
     "text": [
      "┌ Info: Working on Trophic.type.Nectiv\n",
      "└ @ Main In[19]:52\n"
     ]
    },
    {
     "name": "stdout",
     "output_type": "stream",
     "text": [
      "  1.129664 seconds (1.72 M allocations: 998.738 MiB, 44.61% gc time)\n"
     ]
    },
    {
     "name": "stderr",
     "output_type": "stream",
     "text": [
      "┌ Info: Working on Trophic.type.Omniv\n",
      "└ @ Main In[19]:52\n"
     ]
    },
    {
     "name": "stdout",
     "output_type": "stream",
     "text": [
      "  1.086279 seconds (1.72 M allocations: 998.738 MiB, 47.06% gc time)\n"
     ]
    },
    {
     "name": "stderr",
     "output_type": "stream",
     "text": [
      "┌ Info: Working on Foraging.mode.Demersal\n",
      "└ @ Main In[19]:52\n"
     ]
    },
    {
     "name": "stdout",
     "output_type": "stream",
     "text": [
      "  1.018783 seconds (1.72 M allocations: 998.738 MiB, 46.13% gc time)\n"
     ]
    },
    {
     "name": "stderr",
     "output_type": "stream",
     "text": [
      "┌ Info: Working on Foraging.mode.Benthopelagic\n",
      "└ @ Main In[19]:52\n"
     ]
    },
    {
     "name": "stdout",
     "output_type": "stream",
     "text": [
      "  1.011829 seconds (1.72 M allocations: 998.738 MiB, 46.09% gc time)\n"
     ]
    },
    {
     "name": "stderr",
     "output_type": "stream",
     "text": [
      "┌ Info: Working on Foraging.mode.Pelagic\n",
      "└ @ Main In[19]:52\n"
     ]
    },
    {
     "name": "stdout",
     "output_type": "stream",
     "text": [
      "  1.011961 seconds (1.72 M allocations: 998.738 MiB, 45.93% gc time)\n"
     ]
    }
   ],
   "source": [
    "if isfile(datafile)\n",
    "    data,header = readdlm(datafile,',',header = true);\n",
    "else\n",
    "    @warn \"Data file doesn't exist\"\n",
    "end\n",
    "varlist = header[5:end];\n",
    "ntraits = length(varlist);\n",
    "@info \"Working on $(ntraits) traits\"\n",
    "\n",
    "indexlon = findfirst(header .== \"x\").I[2];\n",
    "indexlat = findfirst(header .== \"y\").I[2];\n",
    "obslon = Vector{Float64}(data[:,indexlon]);\n",
    "obslat = Vector{Float64}(data[:,indexlat]);\n",
    "\n",
    "# Grid stored in emodnet_bio_grid.jl\n",
    "xi,yi = DIVAnd.ndgrid(gridlonFish, gridlatFish);\n",
    "\n",
    "# Mask\n",
    "topodir = \"../data/\"\n",
    "topofile = joinpath(topodir, \"gebco_30sec_8.nc\");\n",
    "\n",
    "if isfile(topofile)\n",
    "    bx, by, b = DIVAnd.load_bath(topofile,true,gridlonFish, gridlatFish);\n",
    "    xmask, ymask, mmask = DIVAnd.load_mask(topofile,true,gridlonFish, gridlatFish,[0]);\n",
    "else\n",
    "    @error \"Bathymetry file doesn't exist\"\n",
    "end\n",
    "mmask = mmask[:,:,1]\n",
    "@info size(mmask)\n",
    "\n",
    "# Metrics\n",
    "pm = ones(size(xi)) / (xi[2,1]-xi[1,1]);\n",
    "pn = ones(size(xi)) / (yi[1,2]-yi[1,1]);\n",
    "\n",
    "# Correlation length\n",
    "len = 2.;\n",
    "# Observational error variance normalized by the background error variance\n",
    "epsilon2 = 5.;\n",
    "\n",
    "rdiag=1.0./DIVAnd.weight_RtimesOne((obslon, obslat),(0.03,0.03))\n",
    "@show maximum(rdiag),mean(rdiag);\n",
    "epsilon2 = epsilon2*rdiag;\n",
    "\n",
    "# Allocate matrix with all the gridded fields\n",
    "trait_fish_all = Array{Float64}(undef, ntraits, length(gridlonFish), length(gridlatFish));\n",
    "trait_fish_err = Array{Float64}(undef, length(gridlonFish), length(gridlatFish));\n",
    "for i in 1:ntraits\n",
    "    @info \"Working on $(varlist[i])\" \n",
    "    indextrait = findfirst(header .== varlist[i]).I[2];\n",
    "    trait = Vector{Float64}(data[:,indextrait]) \n",
    "    traits_interp = traits_analysis(obslon, obslat, trait);\n",
    "    if i == 1\n",
    "        @info \"Computing error field\"\n",
    "        trait_fish_err = traits_error(obslon, obslat, trait);\n",
    "    end\n",
    "    trait_fish_all[i,:,:] = traits_interp;\n",
    "end"
   ]
  },
  {
   "cell_type": "code",
   "execution_count": 28,
   "metadata": {},
   "outputs": [],
   "source": [
    "write_traits_nc(outputfile, gridlonFish, gridlatFish, \n",
    "                trait_fish_all, trait_fish_err, varlist);"
   ]
  }
 ],
 "metadata": {
  "kernelspec": {
   "display_name": "Julia 1.0.0",
   "language": "julia",
   "name": "julia-1.0"
  },
  "language_info": {
   "file_extension": ".jl",
   "mimetype": "application/julia",
   "name": "julia",
   "version": "1.0.0"
  }
 },
 "nbformat": 4,
 "nbformat_minor": 2
}
